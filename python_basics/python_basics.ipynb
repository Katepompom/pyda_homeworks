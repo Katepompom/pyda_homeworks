{
 "cells": [
  {
   "cell_type": "markdown",
   "metadata": {},
   "source": [
    "# Домашнее задание к лекции \"Основы Python\""
   ]
  },
  {
   "cell_type": "markdown",
   "metadata": {},
   "source": [
    "## Задание 1"
   ]
  },
  {
   "cell_type": "markdown",
   "metadata": {},
   "source": [
    "Даны 2 переменных, в которых хранятся строки произвольной длины: *phrase_1* и *phrase_2*.  \n",
    "Напишите код, который проверяет какая из этих строк длиннее."
   ]
  },
  {
   "cell_type": "markdown",
   "metadata": {},
   "source": [
    "Примеры работы программы:  \n",
    "1.  \n",
    "\n",
    "```\n",
    "phrase_1 = 'Насколько проще было бы писать программы, если бы не заказчики'\n",
    "phrase_2 = '640Кб должно хватить для любых задач. Билл Гейтс (по легенде)'\n",
    "\n",
    "```\n",
    "\n",
    "Результат:  \n",
    "`Фраза 1 длиннее фразы 2`\n",
    "2.     \n",
    "\n",
    "```\n",
    "phrase_1 = '640Кб должно хватить для любых задач. Билл Гейтс (по легенде)'\n",
    "phrase_2 = 'Насколько проще было бы писать программы, если бы не заказчики'\n",
    "```\n",
    "\n",
    "Результат:  \n",
    "`Фраза 2 длиннее фразы 1`\n",
    "3.     \n",
    "\n",
    "```\n",
    "phrase_1 = 'Насколько проще было бы писать программы, если бы не заказчики'\n",
    "phrase_2 = 'Насколько проще было бы писать программы, если бы не заказчики'\n",
    "```\n",
    "\n",
    "Результат:  \n",
    "`Фразы равной длины`"
   ]
  },
  {
   "cell_type": "markdown",
   "metadata": {},
   "source": [
    "## Решение "
   ]
  },
  {
   "cell_type": "code",
   "execution_count": 15,
   "metadata": {},
   "outputs": [],
   "source": [
    "phrase_1 = 'Насколько проще было бы писать программы, если бы не заказчики'\n",
    "phrase_2 = 'Насколько проще было бы писать программы, если бы не заказчики'"
   ]
  },
  {
   "cell_type": "code",
   "execution_count": 14,
   "metadata": {},
   "outputs": [
    {
     "name": "stdout",
     "output_type": "stream",
     "text": [
      "Фразы равной длины\n"
     ]
    }
   ],
   "source": [
    "if len(phrase_1) == len(phrase_2):\n",
    "    print('Фразы равной длины')\n",
    "elif len(phrase_1) > len(phrase_2):\n",
    "    print('Фраза 1 длиннее фразы 2')\n",
    "else:\n",
    "    print('Фраза 2 длиннее фразы 1')"
   ]
  },
  {
   "cell_type": "markdown",
   "metadata": {},
   "source": [
    "## Задание 2"
   ]
  },
  {
   "cell_type": "markdown",
   "metadata": {},
   "source": [
    "Дана переменная, в которой хранится четырехзначное число (год). Необходимо написать программу, которая выведет, является ли данный год високосным или обычным.\n",
    "\n",
    "Пример работы программы:\n",
    "1.  \n",
    "\n",
    "```\n",
    "year = 2020\n",
    "```\n",
    "Результат:  \n",
    "`Високосный год` \n",
    "\n",
    "2.  \n",
    "\n",
    "```\n",
    "year = 2019\n",
    "```\n",
    "Результат:  \n",
    "`Обычный год` "
   ]
  },
  {
   "cell_type": "markdown",
   "metadata": {},
   "source": [
    "## Решение "
   ]
  },
  {
   "cell_type": "markdown",
   "metadata": {},
   "source": [
    "Алгоритм определения високосного года был взят из [Википедии](https://en.wikipedia.org/wiki/Leap_year)"
   ]
  },
  {
   "cell_type": "code",
   "execution_count": 25,
   "metadata": {},
   "outputs": [],
   "source": [
    "year = 2019"
   ]
  },
  {
   "cell_type": "markdown",
   "metadata": {},
   "source": [
    "if (year is not divisible by 4) then (it is a common year)\n",
    "\n",
    "else if (year is not divisible by 100) then (it is a leap year)\n",
    "\n",
    "else if (year is not divisible by 400) then (it is a common year)\n",
    "\n",
    "else (it is a leap year)"
   ]
  },
  {
   "cell_type": "code",
   "execution_count": 26,
   "metadata": {},
   "outputs": [
    {
     "name": "stdout",
     "output_type": "stream",
     "text": [
      "Обычный год\n"
     ]
    }
   ],
   "source": [
    "if not isinstance(year, int):\n",
    "    print('Год задан некорректно')\n",
    "elif not (year % 4 == 0):\n",
    "    print('Обычный год')\n",
    "elif not (year % 100 == 0):\n",
    "    print('Високосный год')\n",
    "elif not (year % 400 == 0):\n",
    "    print('Обычный год')\n",
    "else:\n",
    "    print('Високосный год')"
   ]
  },
  {
   "cell_type": "markdown",
   "metadata": {},
   "source": [
    "## Задание 3"
   ]
  },
  {
   "cell_type": "markdown",
   "metadata": {},
   "source": [
    "Необходимо написать программу, которая будет запрашивать у пользователя месяц и дату рождения и выводить соответствующий знак зодиака.\n",
    "\n",
    "Пример работы программы:  \n",
    "1.  \n",
    "\n",
    "```\n",
    "Введите день:\n",
    "30\n",
    "\n",
    "Введите месяц:\n",
    "Август\n",
    "```\n",
    "Результат:  \n",
    "`Ваш знак зодиака: Дева` \n",
    "\n",
    "2.  \n",
    "\n",
    "```\n",
    "Введите день:\n",
    "29\n",
    "\n",
    "Введите месяц:\n",
    "Октябрь\n",
    "```\n",
    "Результат:  \n",
    "`Ваш знак зодиака: Скорпион` \n"
   ]
  },
  {
   "cell_type": "markdown",
   "metadata": {},
   "source": [
    "## Решение"
   ]
  },
  {
   "cell_type": "code",
   "execution_count": 3,
   "metadata": {},
   "outputs": [
    {
     "name": "stdout",
     "output_type": "stream",
     "text": [
      "Введите день рождения (число): 2\n",
      "Введите месяц рождения (в именительном падеже): АПРЕЛЬ\n",
      "Ваш знак зодиака:  Овен\n"
     ]
    }
   ],
   "source": [
    "day_of_birth = int(input('Введите день рождения (число): '))\n",
    "month_of_birth = input('Введите месяц рождения (в именительном падеже): ').lower()\n",
    "\n",
    "message_temp = 'Ваш знак зодиака: '\n",
    "\n",
    "if (month_of_birth == 'март'):\n",
    "    print(message_temp, 'Овен') if (day_of_birth >= 21) else print(message_temp, 'Рыбы')\n",
    "elif (month_of_birth == 'апрель'):\n",
    "    print(message_temp, 'Телец') if (day_of_birth >= 21) else print(message_temp, 'Овен')\n",
    "elif (month_of_birth == 'май'):\n",
    "    print(message_temp, 'Близнецы') if (day_of_birth >= 22) else print(message_temp, 'Телец')\n",
    "elif (month_of_birth == 'июнь'):\n",
    "    print(message_temp, 'Рак') if (day_of_birth >= 22) else print(message_temp, 'Близнецы')\n",
    "elif (month_of_birth == 'июль'):\n",
    "    print(message_temp, 'Лев') if (day_of_birth >= 23) else print(message_temp, 'Рак')\n",
    "elif (month_of_birth == 'август'):\n",
    "    print(message_temp, 'Дева') if (day_of_birth >= 22) else print(message_temp, 'Лев')\n",
    "elif (month_of_birth == 'сентябрь'):\n",
    "    print(message_temp, 'Весы') if (day_of_birth >= 24) else print(message_temp, 'Дева')\n",
    "elif (month_of_birth == 'октябрь'):\n",
    "    print(message_temp, 'Скорпион') if (day_of_birth >= 24) else print(message_temp, 'Весы')\n",
    "elif (month_of_birth == 'ноябрь'):\n",
    "    print(message_temp, 'Стрелец') if (day_of_birth >= 23) else print(message_temp, 'Скорпион')\n",
    "elif (month_of_birth == 'декабрь'):\n",
    "    print(message_temp, 'Козерог') if (day_of_birth >= 23) else print(message_temp, 'Стрелец')\n",
    "elif (month_of_birth == 'январь'):\n",
    "    print(message_temp, 'Водолей') if (day_of_birth >= 21) else print(message_temp, 'Козерог')\n",
    "elif (month_of_birth == 'февраль'):\n",
    "    print(message_temp, 'Рыбы') if (day_of_birth >= 20) else print(message_temp, 'Водолей')\n",
    "else:\n",
    "    print('Не удалось определить знак зодиака. Проверьте правильность ввода данных')"
   ]
  },
  {
   "cell_type": "markdown",
   "metadata": {},
   "source": [
    "## Задание 4"
   ]
  },
  {
   "cell_type": "markdown",
   "metadata": {},
   "source": [
    "Вам нужно написать программу для подбора упаковок по размерам товара. Размеры (ширина, длина, высота) хранятся в переменных (в сантиметрах):\n",
    "\n",
    "Используйте следующие правила:\n",
    "- если каждое из трех измерений менее 15 сантиметров, то выведите на экран \"Коробка №1\";\n",
    "- если хотя бы одно из измерений больше 15 сантиметров, но менее 50 сантиметров, то выводите \"Коробка №2\";\n",
    "- если длина товара больше 2 метров, то выводите \"Упаковка для лыж\";\n",
    "- во всех остальных случаях выводите \"Стандартная коробка №3\".\n",
    "\n",
    "Пример работы программы:  \n",
    "1.  \n",
    "\n",
    "```\n",
    "width = 15\n",
    "length = 50\n",
    "height = 15\n",
    "```\n",
    "Результат:  \n",
    "`Стандартная коробка №3` \n",
    "\n",
    "2.  \n",
    "\n",
    "```\n",
    "width = 45\n",
    "length = 205\n",
    "height = 45\n",
    "```\n",
    "Результат:  \n",
    "`Ищите упаковку для лыж` "
   ]
  },
  {
   "cell_type": "markdown",
   "metadata": {},
   "source": [
    "## Решение "
   ]
  },
  {
   "cell_type": "code",
   "execution_count": 43,
   "metadata": {},
   "outputs": [],
   "source": [
    "width = 15\n",
    "length = 50\n",
    "height = 15"
   ]
  },
  {
   "cell_type": "code",
   "execution_count": 45,
   "metadata": {},
   "outputs": [
    {
     "name": "stdout",
     "output_type": "stream",
     "text": [
      "Стандартная коробка №3\n"
     ]
    }
   ],
   "source": [
    "if (width < 15 and length < 15 and height < 15):\n",
    "    print('Коробка №1')\n",
    "elif (length > 200):\n",
    "    print('Упаковка для лыж')\n",
    "elif ((width > 15 and width < 50) or (length > 15 and length < 50) or (height > 15 and height < 50)):\n",
    "    print('Коробка №2')\n",
    "else:\n",
    "    print('Стандартная коробка №3')"
   ]
  },
  {
   "cell_type": "markdown",
   "metadata": {},
   "source": [
    "## Задание 5 (необязательное)"
   ]
  },
  {
   "cell_type": "markdown",
   "metadata": {},
   "source": [
    "Дана переменная, в которой хранится шестизначное число (номер проездного билета). Напишите программу, которая будет определять, является ли данный билет \"счастливым\". Билет считается счастливым, если сумма первых трех цифр совпадает с суммой последних трех цифр номера.   \n",
    "\n",
    "Примеры работы программы:  \n",
    "1. ```number = 123456```\n",
    "\n",
    "Результат:  \n",
    "`Неасчастливый билет`\n",
    "2. ```number = 123321```\n",
    "\n",
    "Результат:  \n",
    "`Счастливый билет`\n"
   ]
  },
  {
   "cell_type": "markdown",
   "metadata": {},
   "source": [
    "## Решение"
   ]
  },
  {
   "cell_type": "markdown",
   "metadata": {},
   "source": [
    "Выбрала решение, основываясь на том, что по курсу еще не было объяснения что такое списки =)"
   ]
  },
  {
   "cell_type": "code",
   "execution_count": 52,
   "metadata": {},
   "outputs": [],
   "source": [
    "number = 123321"
   ]
  },
  {
   "cell_type": "code",
   "execution_count": 63,
   "metadata": {},
   "outputs": [
    {
     "name": "stdout",
     "output_type": "stream",
     "text": [
      "Несчастливый билет\n"
     ]
    }
   ],
   "source": [
    "if (len(str(number)) != 6):\n",
    "    print('Число задано неверно')\n",
    "else:\n",
    "    right_sum = number % 10 + (number // 10) % 10 + (number // 100) % 10 # нахождение суммы последних трех цифр числа \n",
    "    left_sum = (number // 1000) % 10 + (number // 10000) % 10 + (number // 1000000) % 10 # нахождение суммы первых трех цифр числа \n",
    "    if (right_sum == left_sum):\n",
    "        print('Счастливый билет')\n",
    "    else:\n",
    "        print('Несчастливый билет')"
   ]
  },
  {
   "cell_type": "markdown",
   "metadata": {},
   "source": [
    "## Задание 6 (необязательное)"
   ]
  },
  {
   "cell_type": "markdown",
   "metadata": {},
   "source": [
    "Напишите программу, которая сможет вычислять площади трех фигур (круг, треугольник и прямоугольник).\n",
    "Тип фигуры запрашиваем через пользовательский ввод, после чего делаем запрос характеристик фигуры:\n",
    "\n",
    "- если пользователь выбрал круг, запрашиваем его радиус,\n",
    "- если треугольник – длины трех его сторон;\n",
    "- если прямоугольник – длины двух его сторон.\n",
    "\n",
    "Пример работы программы:\n",
    "1.  \n",
    "\n",
    "```\n",
    "Введите тип фигуры:\n",
    "Круг\n",
    "\n",
    "Введите радиус круга:\n",
    "10\n",
    "```\n",
    "Результат:  \n",
    "`Площадь круга: 314.16`\n",
    "\n",
    "2.  \n",
    "\n",
    "```\n",
    "Введите тип фигуры:\n",
    "Треугольник\n",
    "\n",
    "Введите длину стороны A:\n",
    "2\n",
    "\n",
    "Введите длину стороны B:\n",
    "2\n",
    "\n",
    "Введите длину стороны C:\n",
    "3\n",
    "```\n",
    "Результат:  \n",
    "`Площадь треугольника: 1.98`"
   ]
  },
  {
   "cell_type": "markdown",
   "metadata": {},
   "source": [
    "## Решение"
   ]
  },
  {
   "cell_type": "code",
   "execution_count": 64,
   "metadata": {},
   "outputs": [],
   "source": [
    "import math # импорт математической библиотеки для использования числа пи и корня"
   ]
  },
  {
   "cell_type": "code",
   "execution_count": 66,
   "metadata": {},
   "outputs": [
    {
     "name": "stdout",
     "output_type": "stream",
     "text": [
      "Введите тип фигуры (круг, треугольник или прямоугольник): Треугольник\n",
      "Введите длину стороны A: 2\n",
      "Введите длину стороны B: 3\n",
      "Введите длину стороны C: 2\n",
      "Площадь треугольника:  1.98\n"
     ]
    }
   ],
   "source": [
    "figure_type = input('Введите тип фигуры (круг, треугольник или прямоугольник): ')\n",
    "\n",
    "if (str.lower(figure_type) == 'круг'):\n",
    "    radius = float(input('Введите радиус круга: '))\n",
    "    S = round(math.pi * radius**2, 2)\n",
    "    print('Площадь круга: ', S)\n",
    "elif (str.lower(figure_type) == 'треугольник'):\n",
    "    a = float(input('Введите длину стороны A: '))\n",
    "    b = float(input('Введите длину стороны B: '))\n",
    "    c = float(input('Введите длину стороны C: '))\n",
    "    p = (a + b + c) / 2\n",
    "    S = round(math.sqrt(p * (p - a) * (p - b) * (p - c)), 2)\n",
    "    print('Площадь треугольника: ', S)\n",
    "elif (str.lower(figure_type) == 'прямоугольник'):\n",
    "    a = float(input('Введите длину стороны A: '))\n",
    "    b = float(input('Введите длину стороны B: '))\n",
    "    S = a * b\n",
    "    print('Площадь прямоугольника: ', S)\n",
    "else:\n",
    "    print('Не удалось определить фигуру')"
   ]
  },
  {
   "cell_type": "markdown",
   "metadata": {},
   "source": [
    "## ПРИМЕЧАНИЕ\n",
    "Домашнее задание сдается ссылкой на репозиторий [GitHub](https://github.com/).\n",
    "Не сможем проверить или помочь, если вы пришлете:\n",
    "- файлы;\n",
    "- архивы;\n",
    "- скриншоты кода.\n",
    "\n",
    "Все обсуждения и консультации по выполнению домашнего задания ведутся только на соответствующем канале в slack.\n",
    "\n",
    "##### Как правильно задавать вопросы аспирантам, преподавателям и коллегам\n",
    "Прежде чем задать вопрос, попробуйте найти ответ в интернете. Навык самостоятельного поиска информации — один из важнейших. Каждый практикующий специалист любого уровня делает это ежедневно.\n",
    "\n",
    "Сформулируйте вопрос по алгоритму:  \n",
    "1) Что я делаю?  \n",
    "2) Какого результата я ожидаю?  \n",
    "3) Как фактический результат отличается от ожидаемого?  \n",
    "4) Что я уже попробовал сделать, чтобы исправить проблему?  \n",
    "\n",
    "По возможности прикрепите к вопросу скриншоты либо ссылки на код. Не выкладывайте все решение, оставляйте только проблемный и воспроизводимый участок кода."
   ]
  }
 ],
 "metadata": {
  "kernelspec": {
   "display_name": "Python 3",
   "language": "python",
   "name": "python3"
  },
  "language_info": {
   "codemirror_mode": {
    "name": "ipython",
    "version": 3
   },
   "file_extension": ".py",
   "mimetype": "text/x-python",
   "name": "python",
   "nbconvert_exporter": "python",
   "pygments_lexer": "ipython3",
   "version": "3.8.5"
  }
 },
 "nbformat": 4,
 "nbformat_minor": 2
}
