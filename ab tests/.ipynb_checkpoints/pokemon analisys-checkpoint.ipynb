{
 "cells": [
  {
   "cell_type": "code",
   "execution_count": 56,
   "id": "bace5a3a",
   "metadata": {},
   "outputs": [],
   "source": [
    " # Подгрузим пакеты \n",
    "import numpy as np\n",
    "import pandas as pd\n",
    "import scipy.stats as stats \n",
    "import matplotlib.pyplot as plt  #Пакет для построения графиков и прочего\n",
    "import seaborn as sns\n",
    "from scipy.stats import f_oneway "
   ]
  },
  {
   "cell_type": "markdown",
   "id": "092ba67c",
   "metadata": {},
   "source": [
    "# Покемоны и AB-тестирование \n",
    "(реальный кейс собеседования на позицию Аналитика).\n",
    "\n",
    "\n",
    "# Описание задачи\n",
    "\n",
    "![banner](https://storage.googleapis.com/kaggle-datasets-images/635/1204/126be74882028aac7241553cef0e27a7/dataset-original.jpg)\n",
    "\n",
    "Покемоны - это маленькие существа, которые сражаются друг с другом на соревнованиях. Все покемоны имеют разные характеристики (сила атаки, защиты и т. д.) И относятся к одному или двум так называемым классам (вода, огонь и т. д.).\n",
    "Профессор Оук является изобретателем Pokedex, портативного устройства, которое хранит информацию обо всех существующих покемонах. Как его ведущий специалист по данным, Вы только что получили от него запрос с просьбой осуществить аналитику данных на всех устройствах Pokedex. \n",
    "\n",
    "## Описание набора данных\n",
    "Профессор Оук скопировал все содержимое память одного устройства Pokedex, в результате чего получился набор данных, с которым Вы будете работать в этой задаче. В этом файле каждая строка представляет характеристики одного покемона:\n",
    "\n",
    "* `pid`: Numeric - ID покемона\n",
    "* `HP`: Numeric - Очки здоровья\n",
    "* `Attack`: Numeric - Сила обычной атаки\n",
    "* `Defense`: Numeric - Сила обычной защиты\n",
    "* `Sp. Atk`: Numeric - Сила специальной атаки\n",
    "* `Sp. Def`: Numeric - Сила специальной защиты\n",
    "* `Speed`: Numeric - Скорость движений\n",
    "* `Legendary`: Boolean - «True», если покемон редкий\n",
    "* `Class 1`: Categorical - Класс покемона\n",
    "* `Class 2`: Categorical - Класс покемона"
   ]
  },
  {
   "cell_type": "code",
   "execution_count": 3,
   "id": "4d18a27a",
   "metadata": {},
   "outputs": [
    {
     "data": {
      "text/html": [
       "<div>\n",
       "<style scoped>\n",
       "    .dataframe tbody tr th:only-of-type {\n",
       "        vertical-align: middle;\n",
       "    }\n",
       "\n",
       "    .dataframe tbody tr th {\n",
       "        vertical-align: top;\n",
       "    }\n",
       "\n",
       "    .dataframe thead th {\n",
       "        text-align: right;\n",
       "    }\n",
       "</style>\n",
       "<table border=\"1\" class=\"dataframe\">\n",
       "  <thead>\n",
       "    <tr style=\"text-align: right;\">\n",
       "      <th></th>\n",
       "      <th>pid</th>\n",
       "      <th>Name</th>\n",
       "      <th>Class 1</th>\n",
       "      <th>Class 2</th>\n",
       "      <th>HP</th>\n",
       "      <th>Attack</th>\n",
       "      <th>Defense</th>\n",
       "      <th>Sp. Atk</th>\n",
       "      <th>Sp. Def</th>\n",
       "      <th>Speed</th>\n",
       "      <th>Legendary</th>\n",
       "    </tr>\n",
       "  </thead>\n",
       "  <tbody>\n",
       "    <tr>\n",
       "      <th>0</th>\n",
       "      <td>1</td>\n",
       "      <td>Bulbasaur</td>\n",
       "      <td>Grass</td>\n",
       "      <td>Poison</td>\n",
       "      <td>45</td>\n",
       "      <td>49</td>\n",
       "      <td>49</td>\n",
       "      <td>65</td>\n",
       "      <td>65</td>\n",
       "      <td>45</td>\n",
       "      <td>False</td>\n",
       "    </tr>\n",
       "    <tr>\n",
       "      <th>1</th>\n",
       "      <td>2</td>\n",
       "      <td>Ivysaur</td>\n",
       "      <td>Grass</td>\n",
       "      <td>Poison</td>\n",
       "      <td>60</td>\n",
       "      <td>62</td>\n",
       "      <td>63</td>\n",
       "      <td>80</td>\n",
       "      <td>80</td>\n",
       "      <td>60</td>\n",
       "      <td>False</td>\n",
       "    </tr>\n",
       "    <tr>\n",
       "      <th>2</th>\n",
       "      <td>3</td>\n",
       "      <td>Venusaur</td>\n",
       "      <td>Grass</td>\n",
       "      <td>Poison</td>\n",
       "      <td>80</td>\n",
       "      <td>82</td>\n",
       "      <td>83</td>\n",
       "      <td>100</td>\n",
       "      <td>100</td>\n",
       "      <td>80</td>\n",
       "      <td>False</td>\n",
       "    </tr>\n",
       "    <tr>\n",
       "      <th>3</th>\n",
       "      <td>4</td>\n",
       "      <td>Mega Venusaur</td>\n",
       "      <td>Grass</td>\n",
       "      <td>Poison</td>\n",
       "      <td>80</td>\n",
       "      <td>100</td>\n",
       "      <td>123</td>\n",
       "      <td>122</td>\n",
       "      <td>120</td>\n",
       "      <td>80</td>\n",
       "      <td>False</td>\n",
       "    </tr>\n",
       "    <tr>\n",
       "      <th>4</th>\n",
       "      <td>5</td>\n",
       "      <td>Charmander</td>\n",
       "      <td>Fire</td>\n",
       "      <td>NaN</td>\n",
       "      <td>39</td>\n",
       "      <td>52</td>\n",
       "      <td>43</td>\n",
       "      <td>60</td>\n",
       "      <td>50</td>\n",
       "      <td>65</td>\n",
       "      <td>False</td>\n",
       "    </tr>\n",
       "  </tbody>\n",
       "</table>\n",
       "</div>"
      ],
      "text/plain": [
       "   pid           Name Class 1 Class 2  HP  Attack  Defense  Sp. Atk  Sp. Def  \\\n",
       "0    1      Bulbasaur   Grass  Poison  45      49       49       65       65   \n",
       "1    2        Ivysaur   Grass  Poison  60      62       63       80       80   \n",
       "2    3       Venusaur   Grass  Poison  80      82       83      100      100   \n",
       "3    4  Mega Venusaur   Grass  Poison  80     100      123      122      120   \n",
       "4    5     Charmander    Fire     NaN  39      52       43       60       50   \n",
       "\n",
       "   Speed  Legendary  \n",
       "0     45      False  \n",
       "1     60      False  \n",
       "2     80      False  \n",
       "3     80      False  \n",
       "4     65      False  "
      ]
     },
     "execution_count": 3,
     "metadata": {},
     "output_type": "execute_result"
    }
   ],
   "source": [
    "pokemon_path = 'https://raw.githubusercontent.com/a-milenkin/datasets_for_t-tests/main/pokemon.csv'\n",
    "pokemon = pd.read_csv(pokemon_path, error_bad_lines=False)  # Откроем датасет\n",
    "pokemon.head()"
   ]
  },
  {
   "cell_type": "code",
   "execution_count": 18,
   "id": "a1821195",
   "metadata": {},
   "outputs": [
    {
     "name": "stdout",
     "output_type": "stream",
     "text": [
      "<class 'pandas.core.frame.DataFrame'>\n",
      "RangeIndex: 800 entries, 0 to 799\n",
      "Data columns (total 11 columns):\n",
      " #   Column     Non-Null Count  Dtype \n",
      "---  ------     --------------  ----- \n",
      " 0   pid        800 non-null    int64 \n",
      " 1   Name       799 non-null    object\n",
      " 2   Class 1    800 non-null    object\n",
      " 3   Class 2    414 non-null    object\n",
      " 4   HP         800 non-null    int64 \n",
      " 5   Attack     800 non-null    int64 \n",
      " 6   Defense    800 non-null    int64 \n",
      " 7   Sp. Atk    800 non-null    int64 \n",
      " 8   Sp. Def    800 non-null    int64 \n",
      " 9   Speed      800 non-null    int64 \n",
      " 10  Legendary  800 non-null    bool  \n",
      "dtypes: bool(1), int64(7), object(3)\n",
      "memory usage: 63.4+ KB\n"
     ]
    }
   ],
   "source": [
    "pokemon.info()"
   ]
  },
  {
   "cell_type": "markdown",
   "id": "1195e5b6",
   "metadata": {},
   "source": [
    "<div class=\"alert alert-info\">\n",
    "<b>Задание № 1 (Обязательно):</b>\n",
    "    \n",
    "Профессор Оук подозревает, что покемоны в классе `grass` имеют более сильную обычную атаку, чем у покемонов в классе `rock`. Проверьте, прав ли он, и убедите его в своем выводе статистически.\n",
    "    \n",
    "    \n",
    "Примечание: если есть покемоны, которые относятся к обоим классам, просто выбросьте их;\n",
    "    \n",
    "Вы можете предположить, что распределение обычных атак является нормальным для всех классов покемонов.\n",
    "\n",
    "</div>\n"
   ]
  },
  {
   "cell_type": "markdown",
   "id": "ba66cdc0",
   "metadata": {},
   "source": [
    "Обработка данных и подготовка выборок"
   ]
  },
  {
   "cell_type": "code",
   "execution_count": 11,
   "id": "2132f215",
   "metadata": {},
   "outputs": [],
   "source": [
    "grass_group = pokemon[((pokemon['Class 1'] == 'Grass') & ~(pokemon['Class 2'] == 'Rock')) | (~(pokemon['Class 1'] == 'Rock') & (pokemon['Class 2'] == 'Grass'))]\n",
    "rock_group = pokemon[((pokemon['Class 1'] == 'Rock') & ~(pokemon['Class 2'] == 'Grass')) | (~(pokemon['Class 1'] == 'Grass') & (pokemon['Class 2'] == 'Rock'))]"
   ]
  },
  {
   "cell_type": "code",
   "execution_count": 16,
   "id": "0f4aa9e2",
   "metadata": {},
   "outputs": [
    {
     "name": "stdout",
     "output_type": "stream",
     "text": [
      "Количество покемонов типа Grass - 93\n"
     ]
    }
   ],
   "source": [
    "print('Количество покемонов типа Grass -', len(grass_group))"
   ]
  },
  {
   "cell_type": "code",
   "execution_count": 17,
   "id": "d72ce35e",
   "metadata": {},
   "outputs": [
    {
     "name": "stdout",
     "output_type": "stream",
     "text": [
      "Количество покемонов типа Rock - 56\n"
     ]
    }
   ],
   "source": [
    "print('Количество покемонов типа Rock -', len(rock_group))"
   ]
  },
  {
   "cell_type": "markdown",
   "id": "ff6ac5c8",
   "metadata": {},
   "source": [
    "Распределение выборок"
   ]
  },
  {
   "cell_type": "code",
   "execution_count": 20,
   "id": "beacbabc",
   "metadata": {},
   "outputs": [
    {
     "data": {
      "image/png": "[encoded data removed]",
      "text/plain": [
       "<Figure size 432x288 with 1 Axes>"
      ]
     },
     "metadata": {
      "needs_background": "light"
     },
     "output_type": "display_data"
    }
   ],
   "source": [
    "grass_group['Attack'].plot(kind='density')\n",
    "rock_group['Attack'].plot(kind='density');"
   ]
  },
  {
   "cell_type": "markdown",
   "id": "69b7703d",
   "metadata": {},
   "source": [
    "Покемонов в обеих группах разное количество, предполагается нормальность распределения атаки, выборки независимы. Следовательно можно использовать t-критерий Стьюдента.\n",
    "\n",
    "**H0:** средняя атака у покемонов типов Grass и Rock не отличается  \n",
    "**H1:** средняя атака у покемонов типов Grass выше, чем у покемонов типа Rock \n",
    "\n",
    "$\\alpha = 0.05$"
   ]
  },
  {
   "cell_type": "code",
   "execution_count": 37,
   "id": "43a691e4",
   "metadata": {},
   "outputs": [
    {
     "name": "stdout",
     "output_type": "stream",
     "text": [
      "p-value = 0.9998633330927005\n",
      "Одинаковое распределение (не отвергаем H0)\n"
     ]
    }
   ],
   "source": [
    "_, p = stats.ttest_ind(grass_group['Attack'], rock_group['Attack'], alternative='greater')\n",
    "\n",
    "alpha = 0.05  # Уровень значимости\n",
    "print('p-value =', p) \n",
    "\n",
    "if p > alpha:\n",
    "    print('Одинаковое распределение (не отвергаем H0)')\n",
    "else:\n",
    "    print('Разное распределение (отклоняем H0)')\n"
   ]
  },
  {
   "cell_type": "markdown",
   "id": "54552ba1",
   "metadata": {},
   "source": [
    "**Вывод:** средняя оценка обычной атаки у покемонов типа Grass не выше, чем у покемонов типа Rock"
   ]
  },
  {
   "cell_type": "markdown",
   "id": "008b1622",
   "metadata": {},
   "source": [
    "<div class=\"alert alert-info\">\n",
    "<b>Задание № 2 (Обязательно):</b>\n",
    "    \n",
    "Профессор Оук уже долго не может спать по ночам ведь его волнует вопрос, а правда, что покемоны что покемоны в классе `Water` в среднем более быстрые, чем покемоны в классе `Normal`. \n",
    "    \n",
    "    \n",
    "Проверьте, прав ли он, и убедите его в своем выводе статистически.\n",
    "    \n",
    "Примечание: если есть покемоны относятся к обоим классам, выбросьте их;\n",
    "    \n",
    "Вы можете предположить, что распределение скорости движения является нормальным для всех классов покемонов.\n",
    "\n",
    "</div>"
   ]
  },
  {
   "cell_type": "markdown",
   "id": "9cdb020b",
   "metadata": {},
   "source": [
    "Обработка данных и подготовка выборок"
   ]
  },
  {
   "cell_type": "code",
   "execution_count": 24,
   "id": "999776d6",
   "metadata": {},
   "outputs": [],
   "source": [
    "water_group = pokemon[((pokemon['Class 1'] == 'Water') & ~(pokemon['Class 2'] == 'Normal')) | (~(pokemon['Class 1'] == 'Normal') & (pokemon['Class 2'] == 'Water'))]\n",
    "normal_group = pokemon[((pokemon['Class 1'] == 'Normal') & ~(pokemon['Class 2'] == 'Water')) | (~(pokemon['Class 1'] == 'Water') & (pokemon['Class 2'] == 'Normal'))]"
   ]
  },
  {
   "cell_type": "code",
   "execution_count": 25,
   "id": "87b91d78",
   "metadata": {},
   "outputs": [
    {
     "name": "stdout",
     "output_type": "stream",
     "text": [
      "Количество покемонов типа Water - 125\n"
     ]
    }
   ],
   "source": [
    "print('Количество покемонов типа Water -', len(water_group))"
   ]
  },
  {
   "cell_type": "code",
   "execution_count": 26,
   "id": "ec8ad69e",
   "metadata": {},
   "outputs": [
    {
     "name": "stdout",
     "output_type": "stream",
     "text": [
      "Количество покемонов типа Normal - 101\n"
     ]
    }
   ],
   "source": [
    "print('Количество покемонов типа Normal -', len(normal_group))"
   ]
  },
  {
   "cell_type": "markdown",
   "id": "8e88dbcf",
   "metadata": {},
   "source": [
    "Распределение выборок"
   ]
  },
  {
   "cell_type": "code",
   "execution_count": 28,
   "id": "29268dc5",
   "metadata": {
    "scrolled": true
   },
   "outputs": [
    {
     "data": {
      "image/png": "[encoded data removed]",
      "text/plain": [
       "<Figure size 432x288 with 1 Axes>"
      ]
     },
     "metadata": {
      "needs_background": "light"
     },
     "output_type": "display_data"
    }
   ],
   "source": [
    "water_group['Speed'].plot(kind='density')\n",
    "normal_group['Speed'].plot(kind='density');"
   ]
  },
  {
   "cell_type": "markdown",
   "id": "8b712cc6",
   "metadata": {},
   "source": [
    "Покемонов в обеих группах разное количество, предполагается нормальность распределения скорости, выборки независимы. Следовательно можно использовать t-критерий Стьюдента.\n",
    "\n",
    "**H0:** средняя скорость у покемонов типов Water и Normal не отличается  \n",
    "**H1:** средняя скорость у покемонов типов Water выше, чем у покемонов типа Normal \n",
    "\n",
    "$\\alpha = 0.05$"
   ]
  },
  {
   "cell_type": "code",
   "execution_count": 38,
   "id": "afce070a",
   "metadata": {},
   "outputs": [
    {
     "name": "stdout",
     "output_type": "stream",
     "text": [
      "p-value = 0.9837232322430448\n",
      "Одинаковое распределение (не отвергаем H0)\n"
     ]
    }
   ],
   "source": [
    "_, p = stats.ttest_ind(water_group['Speed'], normal_group['Speed'], alternative='greater')\n",
    "\n",
    "alpha = 0.05  # Уровень значимости\n",
    "print('p-value =', p)  \n",
    "\n",
    "if p > alpha:\n",
    "    print('Одинаковое распределение (не отвергаем H0)')\n",
    "else:\n",
    "    print('Разное распределение (отклоняем H0)')"
   ]
  },
  {
   "cell_type": "markdown",
   "id": "4a192036",
   "metadata": {},
   "source": [
    "**Вывод:** средняя скорость у покемонов типа Water не выше, чем у покемонов типа Normal"
   ]
  },
  {
   "cell_type": "markdown",
   "id": "5da7521e",
   "metadata": {},
   "source": [
    "<div class=\"alert alert-info\">\n",
    "<b>Задание № 3:</b>\n",
    "    \n",
    "Профессор Оук тот еще безумец. Он изобрел сыворотку, способную ускорить покемона. Однако, мы усомнились в эффективности его вакцины. Професоор дал эту сыворотку следующим покемонам: смотри массив `treathed_pokemon`. Проверьте, работает ли вообще его сыворотка, убедите всех в своем выводе статистически.\n",
    "    \n",
    "    \n",
    "Вы можете предположить, что распределение скорости движения является нормальным для всех классов покемонов.\n",
    "\n",
    "</div>"
   ]
  },
  {
   "cell_type": "code",
   "execution_count": 39,
   "id": "96a807e9",
   "metadata": {},
   "outputs": [],
   "source": [
    "# Покемоны, которые принимали сыворотку увеличения скорости\n",
    "treathed_pokemon = ['Mega Beedrill','Mega Alakazam', 'Deoxys Normal Forme', 'Mega Lopunny']"
   ]
  },
  {
   "cell_type": "markdown",
   "id": "1e8b3b01",
   "metadata": {},
   "source": [
    "Обработка данных и подготовка выборок"
   ]
  },
  {
   "cell_type": "code",
   "execution_count": 40,
   "id": "e6911505",
   "metadata": {},
   "outputs": [],
   "source": [
    "treatment_group = pokemon[pokemon['Name'].isin(treathed_pokemon)]\n",
    "control_group = pokemon[~pokemon['Name'].isin(treathed_pokemon)]"
   ]
  },
  {
   "cell_type": "code",
   "execution_count": 42,
   "id": "a16347a3",
   "metadata": {},
   "outputs": [
    {
     "name": "stdout",
     "output_type": "stream",
     "text": [
      "Количество покемонов, принимавших сыворотку - 4\n"
     ]
    }
   ],
   "source": [
    "print('Количество покемонов, принимавших сыворотку -', len(treatment_group))"
   ]
  },
  {
   "cell_type": "code",
   "execution_count": 43,
   "id": "0c37810f",
   "metadata": {},
   "outputs": [
    {
     "name": "stdout",
     "output_type": "stream",
     "text": [
      "Количество покемонов, не принимавших сыворотку - 796\n"
     ]
    }
   ],
   "source": [
    "print('Количество покемонов, не принимавших сыворотку -', len(control_group))"
   ]
  },
  {
   "cell_type": "markdown",
   "id": "070c607b",
   "metadata": {},
   "source": [
    "Распределение выборок"
   ]
  },
  {
   "cell_type": "code",
   "execution_count": 44,
   "id": "0ae9e54e",
   "metadata": {
    "scrolled": true
   },
   "outputs": [
    {
     "data": {
      "image/png": "[encoded data removed]",
      "text/plain": [
       "<Figure size 432x288 with 1 Axes>"
      ]
     },
     "metadata": {
      "needs_background": "light"
     },
     "output_type": "display_data"
    }
   ],
   "source": [
    "treatment_group['Speed'].plot(kind='density')\n",
    "control_group['Speed'].plot(kind='density');"
   ]
  },
  {
   "cell_type": "markdown",
   "id": "ba1917cf",
   "metadata": {},
   "source": [
    "Покемонов в обеих группах разное количество, предполагается нормальность распределения скорости, выборки независимы. Следовательно можно использовать t-критерий Стьюдента. Несмотря на то, что выборка из покемонов с сывороткой маленькая, можно использовать критерий, предполагая, что выборка взята из нормального распределения.\n",
    "\n",
    "**H0:** средняя скорость у покемонов, которым была введена сыворотка, не отличается от средней скорости покемонов, не принимавших сыворотку    \n",
    "**H1:** средняя скорость у покемонов, которым была введена сыворотка, выше, чем у покемонов, не принимавших сыворотку\n",
    "\n",
    "$\\alpha = 0.05$"
   ]
  },
  {
   "cell_type": "code",
   "execution_count": 45,
   "id": "540f40c9",
   "metadata": {},
   "outputs": [
    {
     "name": "stdout",
     "output_type": "stream",
     "text": [
      "p-value = 4.75755058815393e-08\n",
      "Разное распределение (отклоняем H0)\n"
     ]
    }
   ],
   "source": [
    "_, p = stats.ttest_ind(treatment_group['Speed'], control_group['Speed'], alternative='greater')\n",
    "\n",
    "alpha = 0.05  # Уровень значимости\n",
    "print('p-value =', p) \n",
    "\n",
    "if p > alpha:\n",
    "    print('Одинаковое распределение (не отвергаем H0)')\n",
    "else:\n",
    "    print('Разное распределение (отклоняем H0)')"
   ]
  },
  {
   "cell_type": "markdown",
   "id": "7590efd7",
   "metadata": {},
   "source": [
    "**Вывод:** средняя скорость у покемонов, принимавших сыворотку выше, чем у покемонов, не принимавших ее. Однако я считаю, что данный эксперимент мог показать некорректные результаты. Во-первых исследуемые покемоны довольно высокого класса и даже без сыворотки могут иметь скорость выше, чем у остальных. Во-вторых исследование лучше было бы проводить по-другому. Например взять тех же покемонов 'Mega Beedrill','Mega Alakazam', 'Deoxys Normal Forme', 'Mega Lopunny', разделить их на две группы, одним дать сыворотку, другим нет, и уже потом сравнивать скорости."
   ]
  },
  {
   "cell_type": "markdown",
   "id": "6efd9be1",
   "metadata": {},
   "source": [
    "<div class=\"alert alert-info\">\n",
    "<b>Задание № 5:</b>\n",
    "    \n",
    "Профессор Оук всегда любил истории про легендарных покемонов. Однако, профессор не очень уверен, что они самые лучшие относительно остальных покемонов. Оук предложил разобраться в этом нам. Проверьте, действительно ли сумма характеристик `HP`,`Attack`,`Defense` у легендарных покемонов выше, чем у других покемонов? А произведение этих же параметров?? Найдите ответы на эти вопросы и убедите всех в своем выводе статистически.\n",
    "   \n",
    "\n",
    "Вы можете предположить, что распределение сум и произведений этих параметров является нормальным для всех классов покемонов.\n",
    "\n",
    "</div>"
   ]
  },
  {
   "cell_type": "markdown",
   "id": "b0a9fdef",
   "metadata": {},
   "source": [
    "Обработка данных, вычисление параметров, по которым будем сравнивать покемонов"
   ]
  },
  {
   "cell_type": "code",
   "execution_count": 47,
   "id": "ea68cd55",
   "metadata": {},
   "outputs": [
    {
     "data": {
      "text/html": [
       "<div>\n",
       "<style scoped>\n",
       "    .dataframe tbody tr th:only-of-type {\n",
       "        vertical-align: middle;\n",
       "    }\n",
       "\n",
       "    .dataframe tbody tr th {\n",
       "        vertical-align: top;\n",
       "    }\n",
       "\n",
       "    .dataframe thead th {\n",
       "        text-align: right;\n",
       "    }\n",
       "</style>\n",
       "<table border=\"1\" class=\"dataframe\">\n",
       "  <thead>\n",
       "    <tr style=\"text-align: right;\">\n",
       "      <th></th>\n",
       "      <th>pid</th>\n",
       "      <th>Name</th>\n",
       "      <th>Class 1</th>\n",
       "      <th>Class 2</th>\n",
       "      <th>HP</th>\n",
       "      <th>Attack</th>\n",
       "      <th>Defense</th>\n",
       "      <th>Sp. Atk</th>\n",
       "      <th>Sp. Def</th>\n",
       "      <th>Speed</th>\n",
       "      <th>Legendary</th>\n",
       "      <th>main features sum</th>\n",
       "      <th>main features mult</th>\n",
       "    </tr>\n",
       "  </thead>\n",
       "  <tbody>\n",
       "    <tr>\n",
       "      <th>0</th>\n",
       "      <td>1</td>\n",
       "      <td>Bulbasaur</td>\n",
       "      <td>Grass</td>\n",
       "      <td>Poison</td>\n",
       "      <td>45</td>\n",
       "      <td>49</td>\n",
       "      <td>49</td>\n",
       "      <td>65</td>\n",
       "      <td>65</td>\n",
       "      <td>45</td>\n",
       "      <td>False</td>\n",
       "      <td>143</td>\n",
       "      <td>108045</td>\n",
       "    </tr>\n",
       "    <tr>\n",
       "      <th>1</th>\n",
       "      <td>2</td>\n",
       "      <td>Ivysaur</td>\n",
       "      <td>Grass</td>\n",
       "      <td>Poison</td>\n",
       "      <td>60</td>\n",
       "      <td>62</td>\n",
       "      <td>63</td>\n",
       "      <td>80</td>\n",
       "      <td>80</td>\n",
       "      <td>60</td>\n",
       "      <td>False</td>\n",
       "      <td>185</td>\n",
       "      <td>234360</td>\n",
       "    </tr>\n",
       "    <tr>\n",
       "      <th>2</th>\n",
       "      <td>3</td>\n",
       "      <td>Venusaur</td>\n",
       "      <td>Grass</td>\n",
       "      <td>Poison</td>\n",
       "      <td>80</td>\n",
       "      <td>82</td>\n",
       "      <td>83</td>\n",
       "      <td>100</td>\n",
       "      <td>100</td>\n",
       "      <td>80</td>\n",
       "      <td>False</td>\n",
       "      <td>245</td>\n",
       "      <td>544480</td>\n",
       "    </tr>\n",
       "    <tr>\n",
       "      <th>3</th>\n",
       "      <td>4</td>\n",
       "      <td>Mega Venusaur</td>\n",
       "      <td>Grass</td>\n",
       "      <td>Poison</td>\n",
       "      <td>80</td>\n",
       "      <td>100</td>\n",
       "      <td>123</td>\n",
       "      <td>122</td>\n",
       "      <td>120</td>\n",
       "      <td>80</td>\n",
       "      <td>False</td>\n",
       "      <td>303</td>\n",
       "      <td>984000</td>\n",
       "    </tr>\n",
       "    <tr>\n",
       "      <th>4</th>\n",
       "      <td>5</td>\n",
       "      <td>Charmander</td>\n",
       "      <td>Fire</td>\n",
       "      <td>NaN</td>\n",
       "      <td>39</td>\n",
       "      <td>52</td>\n",
       "      <td>43</td>\n",
       "      <td>60</td>\n",
       "      <td>50</td>\n",
       "      <td>65</td>\n",
       "      <td>False</td>\n",
       "      <td>134</td>\n",
       "      <td>87204</td>\n",
       "    </tr>\n",
       "  </tbody>\n",
       "</table>\n",
       "</div>"
      ],
      "text/plain": [
       "   pid           Name Class 1 Class 2  HP  Attack  Defense  Sp. Atk  Sp. Def  \\\n",
       "0    1      Bulbasaur   Grass  Poison  45      49       49       65       65   \n",
       "1    2        Ivysaur   Grass  Poison  60      62       63       80       80   \n",
       "2    3       Venusaur   Grass  Poison  80      82       83      100      100   \n",
       "3    4  Mega Venusaur   Grass  Poison  80     100      123      122      120   \n",
       "4    5     Charmander    Fire     NaN  39      52       43       60       50   \n",
       "\n",
       "   Speed  Legendary  main features sum  main features mult  \n",
       "0     45      False                143              108045  \n",
       "1     60      False                185              234360  \n",
       "2     80      False                245              544480  \n",
       "3     80      False                303              984000  \n",
       "4     65      False                134               87204  "
      ]
     },
     "execution_count": 47,
     "metadata": {},
     "output_type": "execute_result"
    }
   ],
   "source": [
    "pokemon['main features sum'] = pokemon['HP'] + pokemon['Attack'] + pokemon['Defense']\n",
    "pokemon['main features mult'] = pokemon['HP'] * pokemon['Attack'] * pokemon['Defense']\n",
    "pokemon.head()"
   ]
  },
  {
   "cell_type": "code",
   "execution_count": 48,
   "id": "7cb816d4",
   "metadata": {},
   "outputs": [],
   "source": [
    "legendary_group_sum = pokemon[pokemon.Legendary]['main features sum']\n",
    "other_group_sum = pokemon[~pokemon.Legendary]['main features sum']\n",
    "\n",
    "legendary_group_mult = pokemon[pokemon.Legendary]['main features mult']\n",
    "other_group_mult = pokemon[~pokemon.Legendary]['main features mult']"
   ]
  },
  {
   "cell_type": "code",
   "execution_count": 49,
   "id": "8f29d490",
   "metadata": {},
   "outputs": [
    {
     "name": "stdout",
     "output_type": "stream",
     "text": [
      "Количество легендарных покемонов - 65\n"
     ]
    }
   ],
   "source": [
    "print('Количество легендарных покемонов -', len(legendary_group_sum))"
   ]
  },
  {
   "cell_type": "code",
   "execution_count": 50,
   "id": "c81b82fb",
   "metadata": {},
   "outputs": [
    {
     "name": "stdout",
     "output_type": "stream",
     "text": [
      "Количество не легендарных покемонов - 735\n"
     ]
    }
   ],
   "source": [
    "print('Количество не легендарных покемонов -', len(other_group_sum))"
   ]
  },
  {
   "cell_type": "markdown",
   "id": "20a7a284",
   "metadata": {},
   "source": [
    "Распределение сумм"
   ]
  },
  {
   "cell_type": "code",
   "execution_count": 51,
   "id": "1df4ee0c",
   "metadata": {
    "scrolled": true
   },
   "outputs": [
    {
     "data": {
      "image/png": "[encoded data removed]",
      "text/plain": [
       "<Figure size 432x288 with 1 Axes>"
      ]
     },
     "metadata": {
      "needs_background": "light"
     },
     "output_type": "display_data"
    }
   ],
   "source": [
    "legendary_group_sum.plot(kind='density')\n",
    "other_group_sum.plot(kind='density');"
   ]
  },
  {
   "cell_type": "markdown",
   "id": "f316fdde",
   "metadata": {},
   "source": [
    "Распределение произведений"
   ]
  },
  {
   "cell_type": "code",
   "execution_count": 52,
   "id": "900c94a6",
   "metadata": {
    "scrolled": true
   },
   "outputs": [
    {
     "data": {
      "image/png": "[encoded data removed]",
      "text/plain": [
       "<Figure size 432x288 with 1 Axes>"
      ]
     },
     "metadata": {
      "needs_background": "light"
     },
     "output_type": "display_data"
    }
   ],
   "source": [
    "legendary_group_mult.plot(kind='density')\n",
    "other_group_mult.plot(kind='density');"
   ]
  },
  {
   "cell_type": "markdown",
   "id": "74518bc3",
   "metadata": {},
   "source": [
    "Покемонов в обеих группах разное количество, предполагается нормальность распределения ключевых арактеристик, выборки независимы. Следовательно можно использовать t-критерий Стьюдента.\n",
    "\n",
    "**H0:** характеристики у легендарных и обычных покемонов не отличаются    \n",
    "**H1:** характеристики у легендарных покемонов лучше, чем у обычных\n",
    "\n",
    "$\\alpha = 0.05$"
   ]
  },
  {
   "cell_type": "code",
   "execution_count": 53,
   "id": "344169b2",
   "metadata": {},
   "outputs": [
    {
     "name": "stdout",
     "output_type": "stream",
     "text": [
      "p-value = 3.9854711028610435e-29\n",
      "Разное распределение (отклоняем H0)\n"
     ]
    }
   ],
   "source": [
    "_, p = stats.ttest_ind(legendary_group_sum, other_group_sum, alternative='greater')\n",
    "\n",
    "alpha = 0.05  # Уровень значимости\n",
    "print('p-value =', p)\n",
    "\n",
    "if p > alpha:\n",
    "    print('Одинаковое распределение (не отвергаем H0)')\n",
    "else:\n",
    "    print('Разное распределение (отклоняем H0)')"
   ]
  },
  {
   "cell_type": "code",
   "execution_count": 54,
   "id": "1dd736e8",
   "metadata": {},
   "outputs": [
    {
     "name": "stdout",
     "output_type": "stream",
     "text": [
      "p-value = 9.96332154421141e-37\n",
      "Разное распределение (отклоняем H0)\n"
     ]
    }
   ],
   "source": [
    "_, p = stats.ttest_ind(legendary_group_mult, other_group_mult, alternative='greater')\n",
    "\n",
    "alpha = 0.05  # Уровень значимости\n",
    "print('p-value =', p) \n",
    "\n",
    "if p > alpha:\n",
    "    print('Одинаковое распределение (не отвергаем H0)')\n",
    "else:\n",
    "    print('Разное распределение (отклоняем H0)')"
   ]
  },
  {
   "cell_type": "markdown",
   "id": "92d623fd",
   "metadata": {},
   "source": [
    "**Вывод:** По обоим тестам суммы и произведения основных характеристик у легендарных покемонов выше, чем у обычных"
   ]
  },
  {
   "cell_type": "markdown",
   "id": "19140594",
   "metadata": {},
   "source": [
    "<div class=\"alert alert-info\">\n",
    "<b>Задание № 6:</b>\n",
    "    \n",
    "Профессор Оук частенько наблюдает за боями покемонов. После очередных таких боев Оук выделил три класса `best_defence_class`, которые на его взгляд одинаковы по \"силе обычной защиты\" `Defense`. Проверьте, действительно ли эти классы покемонов не отличаются по уровню защиты статистически значимо? Все та же статистика вам в помощь! \n",
    "   \n",
    "\n",
    "Вы можете предположить, что распределение сум и произведений этих параметров является нормальным для всех классов покемонов.\n",
    "\n",
    "</div>"
   ]
  },
  {
   "cell_type": "code",
   "execution_count": 55,
   "id": "7fad35a5",
   "metadata": {},
   "outputs": [
    {
     "data": {
      "text/plain": [
       "['Rock', 'Ground', 'Steel', 'Ice']"
      ]
     },
     "execution_count": 55,
     "metadata": {},
     "output_type": "execute_result"
    }
   ],
   "source": [
    "best_defence_class = ['Rock', 'Ground','Steel','Ice']\n",
    "best_defence_class"
   ]
  },
  {
   "cell_type": "markdown",
   "id": "f25c3c21",
   "metadata": {},
   "source": [
    "Подготовка данных по каждому классу покемонов"
   ]
  },
  {
   "cell_type": "code",
   "execution_count": 63,
   "id": "3f0ee5af",
   "metadata": {},
   "outputs": [],
   "source": [
    "rock_group = pokemon[((pokemon['Class 1'] == 'Rock') & ~(pokemon['Class 2'].isin(['Ground','Steel','Ice']))) | (~(pokemon['Class 1'].isin(['Ground','Steel','Ice'])) & (pokemon['Class 2'] == 'Rock'))]['Defense']\n",
    "ground_group = pokemon[((pokemon['Class 1'] == 'Ground') & ~(pokemon['Class 2'].isin(['Rock','Steel','Ice']))) | (~(pokemon['Class 1'].isin(['Rock','Steel','Ice'])) & (pokemon['Class 2'] == 'Ground'))]['Defense']\n",
    "steel_group = pokemon[((pokemon['Class 1'] == 'Steel') & ~(pokemon['Class 2'].isin(['Ground','Rock','Ice']))) | (~(pokemon['Class 1'].isin(['Ground','Rock','Ice'])) & (pokemon['Class 2'] == 'Steel'))]['Defense']\n",
    "ice_group = pokemon[((pokemon['Class 1'] == 'Ice') & ~(pokemon['Class 2'].isin(['Ground','Steel','Rock']))) | (~(pokemon['Class 1'].isin(['Ground','Steel','Rock'])) & (pokemon['Class 2'] == 'Ice'))]['Defense']"
   ]
  },
  {
   "cell_type": "markdown",
   "id": "7ba28458",
   "metadata": {},
   "source": [
    "Визуализация распределений"
   ]
  },
  {
   "cell_type": "code",
   "execution_count": 73,
   "id": "92549d62",
   "metadata": {},
   "outputs": [
    {
     "data": {
      "image/png": "[encoded data removed]",
      "text/plain": [
       "<Figure size 432x288 with 1 Axes>"
      ]
     },
     "metadata": {
      "needs_background": "light"
     },
     "output_type": "display_data"
    }
   ],
   "source": [
    "plt.boxplot([rock_group, ground_group, steel_group, ice_group], labels=['rock', 'ground', 'steel', 'ice']);"
   ]
  },
  {
   "cell_type": "markdown",
   "id": "36a847d6",
   "metadata": {},
   "source": [
    "По графикам есть различие в распределениях показателя защиты у разных типов покемонов"
   ]
  },
  {
   "cell_type": "markdown",
   "id": "98addcc2",
   "metadata": {},
   "source": [
    "Так как сравнивается несколько групп покемонов по одному показателю, который считается распределенным нормально, можно использовать дисперсионный анализ выборок.\n",
    "\n",
    "**H0:** характеристики защиты для покемонов типа 'Rock', 'Ground','Steel','Ice' имеют одинаковое распределение    \n",
    "**H1:** хотя бы одна пара покемонов из типов 'Rock', 'Ground','Steel','Ice' имеет разные по распределению характеристики защиты\n",
    "\n",
    "$\\alpha = 0.05$"
   ]
  },
  {
   "cell_type": "code",
   "execution_count": 74,
   "id": "3484340f",
   "metadata": {},
   "outputs": [
    {
     "name": "stdout",
     "output_type": "stream",
     "text": [
      "8.820416931465497 1.885892116821956e-05\n",
      "Разное распределение (отклоняем H0)\n"
     ]
    }
   ],
   "source": [
    "alpha = 0.05  # Уровень значимости\n",
    "f, p = f_oneway(rock_group, ground_group, steel_group, ice_group)\n",
    "\n",
    "print(f, p)   # Смотрим на результаты ДА\n",
    "\n",
    "if p > alpha:\n",
    "    print('Одинаковое распределение (не отвергаем H0)')\n",
    "else:\n",
    "    print('Разное распределение (отклоняем H0)')"
   ]
  },
  {
   "cell_type": "markdown",
   "id": "7bf0b3c0",
   "metadata": {},
   "source": [
    "**Вывод:** распределение характеристик защиты у покемонов с типами 'Rock', 'Ground','Steel','Ice' различается Значительно. Следовательно эти классы отличаются по уровню защиты."
   ]
  }
 ],
 "metadata": {
  "kernelspec": {
   "display_name": "Python 3",
   "language": "python",
   "name": "python3"
  },
  "language_info": {
   "codemirror_mode": {
    "name": "ipython",
    "version": 3
   },
   "file_extension": ".py",
   "mimetype": "text/x-python",
   "name": "python",
   "nbconvert_exporter": "python",
   "pygments_lexer": "ipython3",
   "version": "3.8.8"
  }
 },
 "nbformat": 4,
 "nbformat_minor": 5
}
