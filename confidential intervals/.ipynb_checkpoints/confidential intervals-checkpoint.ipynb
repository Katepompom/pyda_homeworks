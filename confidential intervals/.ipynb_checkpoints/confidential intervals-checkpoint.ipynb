{
 "cells": [
  {
   "cell_type": "code",
   "execution_count": 2,
   "id": "38d8dd6b",
   "metadata": {},
   "outputs": [],
   "source": [
    "from scipy import stats\n",
    "import numpy as np\n",
    "import math\n",
    "import seaborn as sns\n",
    "import pandas as pd\n",
    "import matplotlib.pyplot as plt"
   ]
  },
  {
   "cell_type": "markdown",
   "id": "f915578f",
   "metadata": {},
   "source": [
    "<div class=\"alert alert-info\">\n",
    "<b>Задание № 0</b>\n",
    "\n",
    "Найдите минимально необходимый объем выборки для построения интервальной оценки среднего.\n",
    "\n",
    "- желаемая точность $\\Delta$ = 3;\n",
    "- дисперсия $\\sigma^2$  = 225;\n",
    "- уровень доверия $\\beta$ = 0.95.\n",
    "    \n",
    "Ответ округлите до целого\n",
    "</div>"
   ]
  },
  {
   "cell_type": "code",
   "execution_count": 2,
   "id": "3a0449e6",
   "metadata": {},
   "outputs": [],
   "source": [
    "D = 225  # дисперсия\n",
    "betta = 0.95  # уровень доверия \n",
    "Delta = 3 # Погрешность"
   ]
  },
  {
   "cell_type": "code",
   "execution_count": 3,
   "id": "0836594f",
   "metadata": {},
   "outputs": [],
   "source": [
    "# считаем z-оценку\n",
    "Z = stats.norm.ppf((1 + betta)/2)"
   ]
  },
  {
   "cell_type": "code",
   "execution_count": 4,
   "id": "407a5d2c",
   "metadata": {},
   "outputs": [
    {
     "name": "stdout",
     "output_type": "stream",
     "text": [
      "Минимальный размер выборки - 97\n"
     ]
    }
   ],
   "source": [
    "# считаем необходимый размер выборки\n",
    "# округление идет всегда в большую сторону\n",
    "n = math.ceil(((Z * math.sqrt(D)) / Delta) ** 2)\n",
    "print(\"Минимальный размер выборки -\", n)"
   ]
  },
  {
   "cell_type": "code",
   "execution_count": 5,
   "id": "b37d36f6",
   "metadata": {},
   "outputs": [
    {
     "name": "stdout",
     "output_type": "stream",
     "text": [
      "Нет, Неверно!\n"
     ]
    }
   ],
   "source": [
    "#Не меняйте этот код, он нужен для проверки вашего ответа ответа!\n",
    "if n%1!=0: print('Вы забыли округлить ответ!!!!')\n",
    "elif hash(str(n)) == -6483854632660926687: print(\"Ошибка, вероятно выбран квартиль для уровня доверия 0.95, а не 0.975. Смотри формулу!\")\n",
    "elif hash(str(n)) != 8942973788178395504: print(\"Нет, Неверно!\")\n",
    "else: print('Верно!!!! Двигайтесь дальше!')\n",
    "#Если у вас долго не получается запустить эту ячейку без ошибок, но оставьте свой ответ и идите дальше. "
   ]
  },
  {
   "cell_type": "markdown",
   "id": "a3d187e1",
   "metadata": {},
   "source": [
    "<div class=\"alert alert-info\">\n",
    "<b>Задание № 1</b>\n",
    "\n",
    "Постройте `98% доверительный интервал` для среднего значения, если известно, что\n",
    "\n",
    "- объем выборки n = 25;\n",
    "- среднее значение по выборке $\\overline x$ = 130;\n",
    "- Из достоверных источников известно стандартное отклонение $\\sigma = 15$.\n",
    "    \n",
    "В ответ укажите длину полученного доверительного интервала (разницу между правым и левым концом), окруленную до целого\n",
    "</div>"
   ]
  },
  {
   "cell_type": "code",
   "execution_count": 7,
   "id": "a7866f58",
   "metadata": {},
   "outputs": [
    {
     "name": "stdout",
     "output_type": "stream",
     "text": [
      "Интервал = (122.54467847376807, 137.45532152623193)\n"
     ]
    }
   ],
   "source": [
    "n = 25 \n",
    "m = 130\n",
    "se = 15\n",
    "# так как объем выборки маленький (< 30), будем использовать t-статистику\n",
    "h = (se / math.sqrt(n)) * stats.t.ppf((1 + 0.98)/2, n)  #  функция ppf из scipy возвращает нам перцентиль\n",
    "print(f'Интервал = ({m-h}, {m+h})')"
   ]
  },
  {
   "cell_type": "code",
   "execution_count": 8,
   "id": "25373044",
   "metadata": {},
   "outputs": [
    {
     "name": "stdout",
     "output_type": "stream",
     "text": [
      "Длина интервала = 14\n"
     ]
    }
   ],
   "source": [
    "L = int(2 * h)\n",
    "print('Длина интервала =', L)"
   ]
  },
  {
   "cell_type": "code",
   "execution_count": 9,
   "id": "f3c929fd",
   "metadata": {},
   "outputs": [
    {
     "name": "stdout",
     "output_type": "stream",
     "text": [
      "Нет, Неверно!\n"
     ]
    }
   ],
   "source": [
    "#Не меняйте этот код, он нужен для проверки ответа!\n",
    "if L%1!=0: print('Вы забыли округлить ответ!!!!')\n",
    "elif hash(str(L)) == 8859716730303628099: print(\"Ошибка, вероятно выбран квартиль для уровня доверия 0.98, а не 0.99. Смотри формулу!\")\n",
    "elif hash(str(L)) != 6091462292841498317: print(\"Нет, Неверно!\")\n",
    "else: print('Верно!!!! Двигайтесь дальше!')\n",
    "#Если у вас долго не получается запустить эту ячейку без ошибок, но оставьте свой ответ и идите дальше. "
   ]
  },
  {
   "cell_type": "markdown",
   "id": "717d9263",
   "metadata": {},
   "source": [
    "<div class=\"alert alert-info\">\n",
    "<b>Задание № 2</b>\n",
    "\n",
    "Даны две выборки роста мужчин и женщин. \n",
    "- Докажите, используя `t-Тест Стьдента`, что различие между выборками незначительно, если уровень значимости равен $\\alpha$ `= 0.001`.\n",
    "- Покажите различия визуально\n",
    "</div>"
   ]
  },
  {
   "cell_type": "markdown",
   "id": "5382f7af",
   "metadata": {},
   "source": [
    "Гипотезы:\n",
    "\n",
    "**H0:** средние значения роста мужчин и женщин не отличаются  \n",
    "**H1:** средние значение роста мужчин и женщин отличаются друг от друга\n",
    "\n",
    "$\\alpha$ = 0.001"
   ]
  },
  {
   "cell_type": "code",
   "execution_count": 10,
   "id": "00e895bd",
   "metadata": {},
   "outputs": [],
   "source": [
    "population_men  = stats.norm.rvs(loc=19, scale=171, size=11000000)  # Выборка мужчин со средним ростом 171\n",
    "population_women = stats.norm.rvs(loc=16, scale=165, size=12000)  # Выборка женщин со средним ростом 165"
   ]
  },
  {
   "cell_type": "code",
   "execution_count": 11,
   "id": "52cf761f",
   "metadata": {},
   "outputs": [],
   "source": [
    "alpha = 0.001"
   ]
  },
  {
   "cell_type": "code",
   "execution_count": 12,
   "id": "e34e0cf6",
   "metadata": {},
   "outputs": [
    {
     "data": {
      "image/png": "[encoded data removed]",
      "text/plain": [
       "<Figure size 432x288 with 1 Axes>"
      ]
     },
     "metadata": {
      "needs_background": "light"
     },
     "output_type": "display_data"
    }
   ],
   "source": [
    "sns.kdeplot(population_men);\n",
    "sns.kdeplot(population_women);"
   ]
  },
  {
   "cell_type": "markdown",
   "id": "35e5af11",
   "metadata": {},
   "source": [
    "Если смотреть по графику, то различие между распределениями незначительное. Проверим это статистически."
   ]
  },
  {
   "cell_type": "code",
   "execution_count": 13,
   "id": "f1d495ce",
   "metadata": {},
   "outputs": [
    {
     "data": {
      "text/plain": [
       "Ttest_indResult(statistic=1.265300131008696, pvalue=0.20578827200627647)"
      ]
     },
     "execution_count": 13,
     "metadata": {},
     "output_type": "execute_result"
    }
   ],
   "source": [
    "stats.ttest_ind(a=population_men, b=population_women, equal_var=False)"
   ]
  },
  {
   "cell_type": "markdown",
   "id": "4d65b7a6",
   "metadata": {},
   "source": [
    "p-статистика равна 0.12, что выше уровня доверия $\\alpha$ = 0.001. Следовательно нельзя отвергнуть нулевую гипотезу. Средний рост мужчин и женщин значительно не отличается."
   ]
  },
  {
   "cell_type": "markdown",
   "id": "6dc7d601",
   "metadata": {},
   "source": [
    "<div class=\"alert alert-info\">\n",
    "<b>Задание № 3</b>\n",
    "\n",
    "Определите объем необходимой выборки для исследования среднего чека за кофе в случайном городе если известно, что в этом городе:\n",
    "\n",
    "- стандартное отклонение $\\sigma = 150$;\n",
    "- уровень доверия $\\beta$  = 95%;\n",
    "- Погрешность $\\Delta = 50$ рублей.\n",
    "</div>"
   ]
  },
  {
   "cell_type": "code",
   "execution_count": 14,
   "id": "e982e1f3",
   "metadata": {},
   "outputs": [],
   "source": [
    "sigma = 150 # стандартное отклонение\n",
    "betta = 0.95  # уровень доверия \n",
    "Delta = 50 # Погрешность"
   ]
  },
  {
   "cell_type": "code",
   "execution_count": 15,
   "id": "8594d531",
   "metadata": {},
   "outputs": [],
   "source": [
    "# считаем z-оценку\n",
    "Z = stats.norm.ppf((1 + betta)/2)"
   ]
  },
  {
   "cell_type": "code",
   "execution_count": 16,
   "id": "9d8b8ecd",
   "metadata": {},
   "outputs": [
    {
     "name": "stdout",
     "output_type": "stream",
     "text": [
      "Минимальный размер выборки - 35\n"
     ]
    }
   ],
   "source": [
    "# считаем необходимый размер выборки\n",
    "# округление идет всегда в большую сторону\n",
    "n = math.ceil(((Z * sigma) / Delta) ** 2)\n",
    "print(\"Минимальный размер выборки -\", n)"
   ]
  },
  {
   "cell_type": "markdown",
   "id": "1dfba9d7",
   "metadata": {},
   "source": [
    "<div class=\"alert alert-info\">\n",
    "<b>Задание № 4</b>\n",
    "\n",
    "Представьте, что вы хотите разоблачить \"волшебника\" который считает, что умеет предсказывать погоду на завтра, отвечая просто: дождь или солнце. Вы пронаблюдали за ответами \"волшебника\" в течении какого-то периода времени и получили некие результаты (см.ниже).\n",
    "\n",
    "Можно ли сказать, что маг действительно умеет предсказывать погоду? Уровень значимости принять за `0.05` ($\\alpha=0.05$).\n",
    "</div>"
   ]
  },
  {
   "cell_type": "code",
   "execution_count": 17,
   "id": "fb3d0e56",
   "metadata": {},
   "outputs": [
    {
     "data": {
      "text/html": [
       "<div>\n",
       "<style scoped>\n",
       "    .dataframe tbody tr th:only-of-type {\n",
       "        vertical-align: middle;\n",
       "    }\n",
       "\n",
       "    .dataframe tbody tr th {\n",
       "        vertical-align: top;\n",
       "    }\n",
       "\n",
       "    .dataframe thead th {\n",
       "        text-align: right;\n",
       "    }\n",
       "</style>\n",
       "<table border=\"1\" class=\"dataframe\">\n",
       "  <thead>\n",
       "    <tr style=\"text-align: right;\">\n",
       "      <th></th>\n",
       "      <th>Ответ волшебника</th>\n",
       "      <th>Реальность</th>\n",
       "    </tr>\n",
       "  </thead>\n",
       "  <tbody>\n",
       "    <tr>\n",
       "      <th>Дождь</th>\n",
       "      <td>10</td>\n",
       "      <td>15</td>\n",
       "    </tr>\n",
       "    <tr>\n",
       "      <th>Солнце</th>\n",
       "      <td>39</td>\n",
       "      <td>34</td>\n",
       "    </tr>\n",
       "  </tbody>\n",
       "</table>\n",
       "</div>"
      ],
      "text/plain": [
       "        Ответ волшебника  Реальность\n",
       "Дождь                 10          15\n",
       "Солнце                39          34"
      ]
     },
     "execution_count": 17,
     "metadata": {},
     "output_type": "execute_result"
    }
   ],
   "source": [
    "observations = pd.DataFrame([[10,15],[39,34]],\n",
    "                            index=['Дождь','Солнце'],\n",
    "                            columns=['Ответ волшебника','Реальность'])\n",
    "observations"
   ]
  },
  {
   "cell_type": "markdown",
   "id": "f6ae679f",
   "metadata": {},
   "source": [
    "Для оценки равенства распределений - фактической и предсказанной погоды используем критерий хи-квадрат.\n",
    "\n",
    "Гипотезы:\n",
    "\n",
    "**H0:** предсказание погоды совпадает с реальной погодой  \n",
    "**H1:** предсказание погоды не совпадает с реальной погодой \n",
    "\n",
    "$\\alpha$ = 0.05"
   ]
  },
  {
   "cell_type": "code",
   "execution_count": 46,
   "id": "a310ff34",
   "metadata": {},
   "outputs": [
    {
     "data": {
      "text/plain": [
       "Power_divergenceResult(statistic=3.141025641025641, pvalue=0.07634578456124118)"
      ]
     },
     "execution_count": 46,
     "metadata": {},
     "output_type": "execute_result"
    }
   ],
   "source": [
    "stats.chisquare(observations['Реальность'], observations['Ответ волшебника']) "
   ]
  },
  {
   "cell_type": "markdown",
   "id": "53cf4211",
   "metadata": {},
   "source": [
    "p-value выше $\\alpha$ = 0.05, следовательно мы не можем отвергнуть нулевую гипотезу. Маг может предсказывать погоду."
   ]
  },
  {
   "cell_type": "markdown",
   "id": "d7faf118",
   "metadata": {},
   "source": [
    "<div class=\"alert alert-info\">\n",
    "<b>Задание № 5</b> \n",
    "\n",
    "Используя функцию mean_confidence_interval(data, confidence), постройте доверительный интервал с уровнем доверия $\\beta = 90\\%$ для выборки:\n",
    "\n",
    "</div>"
   ]
  },
  {
   "cell_type": "code",
   "execution_count": 30,
   "id": "3f344a4c",
   "metadata": {},
   "outputs": [],
   "source": [
    "def mean_confidence_interval(data, confidence=0.95):   \n",
    "    n = len(data)\n",
    "    m, se = np.mean(data), stats.sem(data)\n",
    "    h = se * stats.t.ppf((1 + confidence)/2, n)  #  функция ppf из scipy возвращает нам перцентиль\n",
    "    return m-h, m, m+h"
   ]
  },
  {
   "cell_type": "code",
   "execution_count": 31,
   "id": "f2a7034b",
   "metadata": {},
   "outputs": [],
   "source": [
    "data = [4,5,8,9,6,7,5,6,7,8,5,6,7,0,9,8,4,6,\n",
    "        7,9,8,6,5,7,8,9,6,7,5,8,6,7,9,5,10]"
   ]
  },
  {
   "cell_type": "code",
   "execution_count": 32,
   "id": "6d23e0f1",
   "metadata": {},
   "outputs": [
    {
     "data": {
      "text/plain": [
       "(6.074074746111319, 6.628571428571429, 7.183068111031539)"
      ]
     },
     "execution_count": 32,
     "metadata": {},
     "output_type": "execute_result"
    }
   ],
   "source": [
    "mean_confidence_interval(data, 0.9)"
   ]
  },
  {
   "cell_type": "markdown",
   "id": "a22a90c7",
   "metadata": {},
   "source": [
    "<div class=\"alert alert-info\">\n",
    "<b>Задание № 6</b>\n",
    "\n",
    "Принадлежат ли выборки data_1 и data_2 одному множеству? \n",
    "    \n",
    "- Оцените это с помощью известных вам тестов для проверок статистических гипотез;\n",
    "- Покажите различия визуально.\n",
    "</div>"
   ]
  },
  {
   "cell_type": "code",
   "execution_count": 33,
   "id": "18f44d01",
   "metadata": {},
   "outputs": [],
   "source": [
    "data_1 = [4,5,8,9,6,7,5,6,7,8,5,6,7,0,9,8,4,\n",
    "          6,7,9,8,6,5,7,8,9,6,7,5,8,6,7,9,5,10]\n",
    "\n",
    "data_2 = [8,5,6,7,0,1,8,4,6,7,0,2,6,5,7,5,3,5,3,\n",
    "          5,3,5,5,8,7,6,4,5,3,5,4,6,4,5,3,2,6,4,\n",
    "          2,6,1,0,4,3,5,4,3,4,5,4,3,4,5,4,3,4,5,\n",
    "          3,4,4,1,2,4,3,1,2,4,3,2,1,5,3,4,6,4,5,\n",
    "          3,2,4,5,6,4,3,1,3,5,3,4,4,4,2,5,3]"
   ]
  },
  {
   "cell_type": "code",
   "execution_count": 51,
   "id": "645c9341",
   "metadata": {
    "scrolled": true
   },
   "outputs": [
    {
     "data": {
      "image/png": "[encoded data removed]",
      "text/plain": [
       "<Figure size 504x504 with 1 Axes>"
      ]
     },
     "metadata": {
      "needs_background": "light"
     },
     "output_type": "display_data"
    }
   ],
   "source": [
    "fig, ax = plt.subplots(1, 1, figsize=(7, 7))\n",
    "\n",
    "ax = sns.kdeplot(data_1), sns.kdeplot(data_2)\n",
    "ax[0].set_title('Data distribution', size=12)\n",
    "ax[0].legend(('Data 1', 'Data 2'));"
   ]
  },
  {
   "cell_type": "markdown",
   "id": "fa67e8ed",
   "metadata": {},
   "source": [
    "Необходимо оценить равенство распределений в данных data_1 и data_2. При этом выборки имеют разный размер. Для t-критерия Стьюдента или Хи-квадрат нужны одинаковые размеры выборок. Критерий Колмогорова-Смирнова также не подойдет, так как одна из выборок маленькая (<50). Поэтому попробуем просто сравнить средние значения выборок с помощью [t-критерия Уэлча](https://ru.wikipedia.org/wiki/T-%D0%BA%D1%80%D0%B8%D1%82%D0%B5%D1%80%D0%B8%D0%B9_%D0%A3%D1%8D%D0%BB%D1%87%D0%B0) \n",
    "\n",
    "Гипотезы:\n",
    "\n",
    "**H0:** распределения не отличаются  \n",
    "**H1:** распределения отличаются \n",
    "\n",
    "$\\alpha$ = 0.05"
   ]
  },
  {
   "cell_type": "code",
   "execution_count": 52,
   "id": "6d5afe0e",
   "metadata": {},
   "outputs": [
    {
     "data": {
      "text/plain": [
       "Ttest_indResult(statistic=7.35744682757447, pvalue=2.1159475572725764e-11)"
      ]
     },
     "execution_count": 52,
     "metadata": {},
     "output_type": "execute_result"
    }
   ],
   "source": [
    "stats.ttest_ind(data_1, data_2)"
   ]
  },
  {
   "cell_type": "markdown",
   "id": "bb91e532",
   "metadata": {},
   "source": [
    "Значение p-value получилось меньше $\\alpha = 0.05$, поэтому нулевая гипотеза отвергается. Выборки имеют разные распределения."
   ]
  },
  {
   "cell_type": "markdown",
   "id": "7b3eeee7",
   "metadata": {},
   "source": [
    "<div class=\"alert alert-info\">\n",
    "<b>Задание № 7 (задание без подвоха)</b>\n",
    "\n",
    "На примере датасета про жилье в New York City, мы сталкивались с примером, когда переменная имеет не совсем нормальное распределение. \n",
    "\n",
    "- Предположим, Вы сформировали две гипотезы:\n",
    "    - нулевая гипотеза - распределение нормальное;\n",
    "    - альтернативная гипотеза - распределение ненормальное.\n",
    "- допустим, вы применили какой-то тест (сейчас неважно какой), который показал уровень значимости  `p-value = 0.03`. Каковы будут ваши выводы? Будем считать что у нас нормальное распределение или все-таки нет?)\n",
    "    \n",
    "</div>"
   ]
  },
  {
   "cell_type": "markdown",
   "id": "79498031",
   "metadata": {},
   "source": [
    "Постановку вопроса считаю не совсем корректной. Прежде чем делать выводы и проводить тесты, необходимо зафиксировать уровень значимости $\\alpha$.  \n",
    "Представим ситуацию, когда перед тестом задали уровень значимости, равный 0.05. Тогда после теста при значении p-value = 0.03 мы бы отвергли нулевую гипотезу о том, что распределение нормальное. И применяли бы другие тесты для исследования выборки, которые не требуют нормальности."
   ]
  },
  {
   "cell_type": "markdown",
   "id": "014b21e3",
   "metadata": {},
   "source": [
    "<div class=\"alert alert-info\">\n",
    "<b>Задание № 8</b>\n",
    "    \n",
    "Первая выборка — это пациенты, которых лечили препаратом `А`.  Вторая выборка — пациенты, которых лечили препаратом `B`.\n",
    "\n",
    "Значения в выборках — это некоторая характеристика эффективности лечения (уровень метаболита в крови, температура через три дня после начала лечения, срок выздоровления, число койко-дней, и т.д.) \n",
    "\n",
    "- Требуется выяснить, имеется ли значимое различие эффективности препаратов `А` и `B`, или различия являются чисто случайными и объясняются «естественной» дисперсией выбранной характеристики?  (`уровень значимости принять за 0.05 (5%)`)\n",
    "\n",
    "- При каком минимальном p-value различия были бы уже значимы? \n",
    "    \n",
    "- Если выборки незначительно отличаются, то продемонстрируйте это визуально\n",
    "</div>"
   ]
  },
  {
   "cell_type": "markdown",
   "id": "332c09d8",
   "metadata": {},
   "source": [
    "Гипотезы:\n",
    "\n",
    "**H0:** значимого различия в эффективности препаратов нет  \n",
    "**H1:** есть значимое различие в эффективности препаратов\n",
    "\n",
    "$\\alpha$ = 0.05"
   ]
  },
  {
   "cell_type": "code",
   "execution_count": 3,
   "id": "703ba4dd",
   "metadata": {},
   "outputs": [],
   "source": [
    "np.random.seed(11)\n",
    "A = stats.norm.rvs(scale=15,loc=169,size=300)\n",
    "B = stats.norm.rvs(scale=14,loc=171.4,size=300)"
   ]
  },
  {
   "cell_type": "code",
   "execution_count": 4,
   "id": "86396373",
   "metadata": {
    "scrolled": true
   },
   "outputs": [
    {
     "data": {
      "image/png": "[encoded data removed]",
      "text/plain": [
       "<Figure size 504x504 with 1 Axes>"
      ]
     },
     "metadata": {
      "needs_background": "light"
     },
     "output_type": "display_data"
    }
   ],
   "source": [
    "fig, ax = plt.subplots(1, 1, figsize=(7, 7))\n",
    "\n",
    "ax = sns.kdeplot(A), sns.kdeplot(B)\n",
    "ax[0].set_title('Data distribution', size=12)\n",
    "ax[0].legend(('A', 'B'));"
   ]
  },
  {
   "cell_type": "markdown",
   "id": "a8259083",
   "metadata": {},
   "source": [
    "По графику особой разницы в распределении показателя эффективности лечения в выборках не наблюдается. Проведем оценку с помощью t-теста Стьюдента."
   ]
  },
  {
   "cell_type": "code",
   "execution_count": 5,
   "id": "2a245944",
   "metadata": {},
   "outputs": [
    {
     "data": {
      "text/plain": [
       "Ttest_indResult(statistic=-1.95300880485141, pvalue=0.05128459314046928)"
      ]
     },
     "execution_count": 5,
     "metadata": {},
     "output_type": "execute_result"
    }
   ],
   "source": [
    "stats.ttest_ind(A, B)"
   ]
  },
  {
   "cell_type": "markdown",
   "id": "e2d529a4",
   "metadata": {},
   "source": [
    "На уровне значимости 0.05 мы не можем отвергнуть нулевую гипотезу о том, что оба препарата одинаково эффективны. Если бы уровень значимости был равен 0.06 и более, то мы бы отвергли нулевую гипотезу и сделали бы вывод, что между препаратами есть разница в эффективности. В таком случае при принятии решения можно было бы опреться например на разницу в стоимости производства препаратов, в побочных эффектах."
   ]
  }
 ],
 "metadata": {
  "kernelspec": {
   "display_name": "Python 3",
   "language": "python",
   "name": "python3"
  },
  "language_info": {
   "codemirror_mode": {
    "name": "ipython",
    "version": 3
   },
   "file_extension": ".py",
   "mimetype": "text/x-python",
   "name": "python",
   "nbconvert_exporter": "python",
   "pygments_lexer": "ipython3",
   "version": "3.8.8"
  }
 },
 "nbformat": 4,
 "nbformat_minor": 5
}
