{
 "cells": [
  {
   "cell_type": "code",
   "execution_count": 342,
   "metadata": {},
   "outputs": [],
   "source": [
    "# обработка данных\n",
    "import pandas as pd\n",
    "import numpy as np\n",
    "import re\n",
    "import string\n",
    "import nltk\n",
    "from nltk.stem import WordNetLemmatizer\n",
    "from nltk.tokenize import word_tokenize\n",
    "\n",
    "# визуализация\n",
    "from matplotlib import pyplot as plt\n",
    "import seaborn as sns\n",
    "pd.set_option('max_colwidth', 400)\n",
    "\n",
    "# проверка гипотез\n",
    "import scipy.stats as st\n",
    "\n",
    "# построение модели\n",
    "from sklearn.feature_extraction.text import TfidfVectorizer\n",
    "from sklearn.feature_extraction import text\n",
    "from sklearn.pipeline import Pipeline\n",
    "from sklearn.linear_model import LogisticRegression\n",
    "from sklearn.model_selection import train_test_split\n",
    "from sklearn.metrics import classification_report, confusion_matrix, accuracy_score"
   ]
  },
  {
   "cell_type": "code",
   "execution_count": 317,
   "metadata": {},
   "outputs": [
    {
     "name": "stderr",
     "output_type": "stream",
     "text": [
      "[nltk_data] Downloading package punkt to\n",
      "[nltk_data]     C:\\Users\\katep\\AppData\\Roaming\\nltk_data...\n",
      "[nltk_data]   Package punkt is already up-to-date!\n",
      "[nltk_data] Downloading package wordnet to\n",
      "[nltk_data]     C:\\Users\\katep\\AppData\\Roaming\\nltk_data...\n",
      "[nltk_data]   Package wordnet is already up-to-date!\n"
     ]
    }
   ],
   "source": [
    "# загрузка данных для обработки текста\n",
    "nltk.download('punkt')\n",
    "nltk.download('wordnet');"
   ]
  },
  {
   "cell_type": "markdown",
   "metadata": {},
   "source": [
    "# Домашнее задание к лекции \"Статистика. Практика\""
   ]
  },
  {
   "cell_type": "markdown",
   "metadata": {},
   "source": [
    "## Задание 1"
   ]
  },
  {
   "cell_type": "markdown",
   "metadata": {},
   "source": [
    "Вернемся к [набору данных о видеоиграх](https://github.com/obulygin/pyda_homeworks/blob/master/stat_case_study/vgsales.csv).\n",
    "\n",
    "Ответьте на следующие вопросы:\n",
    "\n",
    "1) Как критики относятся к спортивным играм?  \n",
    "2) Критикам нравятся больше игры на PC или на PS4?  \n",
    "3) Критикам больше нравятся стрелялки или стратегии?  \n",
    "\n",
    "Для каждого вопроса:\n",
    "- сформулируйте нулевую и альтернативную гипотезы;\n",
    "- выберите пороговый уровень статистической значимости;\n",
    "- опишите полученные результаты статистического теста."
   ]
  },
  {
   "cell_type": "code",
   "execution_count": 2,
   "metadata": {},
   "outputs": [],
   "source": [
    "vgsales = pd.read_csv('vgsales.csv')"
   ]
  },
  {
   "cell_type": "code",
   "execution_count": 4,
   "metadata": {},
   "outputs": [
    {
     "name": "stdout",
     "output_type": "stream",
     "text": [
      "<class 'pandas.core.frame.DataFrame'>\n",
      "RangeIndex: 16719 entries, 0 to 16718\n",
      "Data columns (total 16 columns):\n",
      " #   Column           Non-Null Count  Dtype  \n",
      "---  ------           --------------  -----  \n",
      " 0   Name             16717 non-null  object \n",
      " 1   Platform         16719 non-null  object \n",
      " 2   Year_of_Release  16450 non-null  float64\n",
      " 3   Genre            16717 non-null  object \n",
      " 4   Publisher        16665 non-null  object \n",
      " 5   NA_Sales         16719 non-null  float64\n",
      " 6   EU_Sales         16719 non-null  float64\n",
      " 7   JP_Sales         16719 non-null  float64\n",
      " 8   Other_Sales      16719 non-null  float64\n",
      " 9   Global_Sales     16719 non-null  float64\n",
      " 10  Critic_Score     8137 non-null   float64\n",
      " 11  Critic_Count     8137 non-null   float64\n",
      " 12  User_Score       7590 non-null   float64\n",
      " 13  User_Count       7590 non-null   float64\n",
      " 14  Developer        10096 non-null  object \n",
      " 15  Rating           9950 non-null   object \n",
      "dtypes: float64(10), object(6)\n",
      "memory usage: 2.0+ MB\n"
     ]
    }
   ],
   "source": [
    "vgsales.info()"
   ]
  },
  {
   "cell_type": "code",
   "execution_count": 53,
   "metadata": {},
   "outputs": [
    {
     "data": {
      "text/html": [
       "<div>\n",
       "<style scoped>\n",
       "    .dataframe tbody tr th:only-of-type {\n",
       "        vertical-align: middle;\n",
       "    }\n",
       "\n",
       "    .dataframe tbody tr th {\n",
       "        vertical-align: top;\n",
       "    }\n",
       "\n",
       "    .dataframe thead th {\n",
       "        text-align: right;\n",
       "    }\n",
       "</style>\n",
       "<table border=\"1\" class=\"dataframe\">\n",
       "  <thead>\n",
       "    <tr style=\"text-align: right;\">\n",
       "      <th></th>\n",
       "      <th>Year_of_Release</th>\n",
       "      <th>NA_Sales</th>\n",
       "      <th>EU_Sales</th>\n",
       "      <th>JP_Sales</th>\n",
       "      <th>Other_Sales</th>\n",
       "      <th>Global_Sales</th>\n",
       "      <th>Critic_Score</th>\n",
       "      <th>Critic_Count</th>\n",
       "      <th>User_Score</th>\n",
       "      <th>User_Count</th>\n",
       "    </tr>\n",
       "  </thead>\n",
       "  <tbody>\n",
       "    <tr>\n",
       "      <th>count</th>\n",
       "      <td>16450.000000</td>\n",
       "      <td>16719.000000</td>\n",
       "      <td>16719.000000</td>\n",
       "      <td>16719.000000</td>\n",
       "      <td>16719.000000</td>\n",
       "      <td>16719.000000</td>\n",
       "      <td>8137.000000</td>\n",
       "      <td>8137.000000</td>\n",
       "      <td>7590.000000</td>\n",
       "      <td>7590.000000</td>\n",
       "    </tr>\n",
       "    <tr>\n",
       "      <th>mean</th>\n",
       "      <td>2006.487356</td>\n",
       "      <td>0.263330</td>\n",
       "      <td>0.145025</td>\n",
       "      <td>0.077602</td>\n",
       "      <td>0.047332</td>\n",
       "      <td>0.533543</td>\n",
       "      <td>68.967679</td>\n",
       "      <td>26.360821</td>\n",
       "      <td>7.125046</td>\n",
       "      <td>162.229908</td>\n",
       "    </tr>\n",
       "    <tr>\n",
       "      <th>std</th>\n",
       "      <td>5.878995</td>\n",
       "      <td>0.813514</td>\n",
       "      <td>0.503283</td>\n",
       "      <td>0.308818</td>\n",
       "      <td>0.186710</td>\n",
       "      <td>1.547935</td>\n",
       "      <td>13.938165</td>\n",
       "      <td>18.980495</td>\n",
       "      <td>1.500006</td>\n",
       "      <td>561.282326</td>\n",
       "    </tr>\n",
       "    <tr>\n",
       "      <th>min</th>\n",
       "      <td>1980.000000</td>\n",
       "      <td>0.000000</td>\n",
       "      <td>0.000000</td>\n",
       "      <td>0.000000</td>\n",
       "      <td>0.000000</td>\n",
       "      <td>0.010000</td>\n",
       "      <td>13.000000</td>\n",
       "      <td>3.000000</td>\n",
       "      <td>0.000000</td>\n",
       "      <td>4.000000</td>\n",
       "    </tr>\n",
       "    <tr>\n",
       "      <th>25%</th>\n",
       "      <td>2003.000000</td>\n",
       "      <td>0.000000</td>\n",
       "      <td>0.000000</td>\n",
       "      <td>0.000000</td>\n",
       "      <td>0.000000</td>\n",
       "      <td>0.060000</td>\n",
       "      <td>60.000000</td>\n",
       "      <td>12.000000</td>\n",
       "      <td>6.400000</td>\n",
       "      <td>10.000000</td>\n",
       "    </tr>\n",
       "    <tr>\n",
       "      <th>50%</th>\n",
       "      <td>2007.000000</td>\n",
       "      <td>0.080000</td>\n",
       "      <td>0.020000</td>\n",
       "      <td>0.000000</td>\n",
       "      <td>0.010000</td>\n",
       "      <td>0.170000</td>\n",
       "      <td>71.000000</td>\n",
       "      <td>21.000000</td>\n",
       "      <td>7.500000</td>\n",
       "      <td>24.000000</td>\n",
       "    </tr>\n",
       "    <tr>\n",
       "      <th>75%</th>\n",
       "      <td>2010.000000</td>\n",
       "      <td>0.240000</td>\n",
       "      <td>0.110000</td>\n",
       "      <td>0.040000</td>\n",
       "      <td>0.030000</td>\n",
       "      <td>0.470000</td>\n",
       "      <td>79.000000</td>\n",
       "      <td>36.000000</td>\n",
       "      <td>8.200000</td>\n",
       "      <td>81.000000</td>\n",
       "    </tr>\n",
       "    <tr>\n",
       "      <th>max</th>\n",
       "      <td>2020.000000</td>\n",
       "      <td>41.360000</td>\n",
       "      <td>28.960000</td>\n",
       "      <td>10.220000</td>\n",
       "      <td>10.570000</td>\n",
       "      <td>82.530000</td>\n",
       "      <td>98.000000</td>\n",
       "      <td>113.000000</td>\n",
       "      <td>9.700000</td>\n",
       "      <td>10665.000000</td>\n",
       "    </tr>\n",
       "  </tbody>\n",
       "</table>\n",
       "</div>"
      ],
      "text/plain": [
       "       Year_of_Release      NA_Sales      EU_Sales      JP_Sales  \\\n",
       "count     16450.000000  16719.000000  16719.000000  16719.000000   \n",
       "mean       2006.487356      0.263330      0.145025      0.077602   \n",
       "std           5.878995      0.813514      0.503283      0.308818   \n",
       "min        1980.000000      0.000000      0.000000      0.000000   \n",
       "25%        2003.000000      0.000000      0.000000      0.000000   \n",
       "50%        2007.000000      0.080000      0.020000      0.000000   \n",
       "75%        2010.000000      0.240000      0.110000      0.040000   \n",
       "max        2020.000000     41.360000     28.960000     10.220000   \n",
       "\n",
       "        Other_Sales  Global_Sales  Critic_Score  Critic_Count   User_Score  \\\n",
       "count  16719.000000  16719.000000   8137.000000   8137.000000  7590.000000   \n",
       "mean       0.047332      0.533543     68.967679     26.360821     7.125046   \n",
       "std        0.186710      1.547935     13.938165     18.980495     1.500006   \n",
       "min        0.000000      0.010000     13.000000      3.000000     0.000000   \n",
       "25%        0.000000      0.060000     60.000000     12.000000     6.400000   \n",
       "50%        0.010000      0.170000     71.000000     21.000000     7.500000   \n",
       "75%        0.030000      0.470000     79.000000     36.000000     8.200000   \n",
       "max       10.570000     82.530000     98.000000    113.000000     9.700000   \n",
       "\n",
       "         User_Count  \n",
       "count   7590.000000  \n",
       "mean     162.229908  \n",
       "std      561.282326  \n",
       "min        4.000000  \n",
       "25%       10.000000  \n",
       "50%       24.000000  \n",
       "75%       81.000000  \n",
       "max    10665.000000  "
      ]
     },
     "execution_count": 53,
     "metadata": {},
     "output_type": "execute_result"
    }
   ],
   "source": [
    "vgsales.describe()"
   ]
  },
  {
   "cell_type": "code",
   "execution_count": 3,
   "metadata": {},
   "outputs": [
    {
     "data": {
      "text/html": [
       "<div>\n",
       "<style scoped>\n",
       "    .dataframe tbody tr th:only-of-type {\n",
       "        vertical-align: middle;\n",
       "    }\n",
       "\n",
       "    .dataframe tbody tr th {\n",
       "        vertical-align: top;\n",
       "    }\n",
       "\n",
       "    .dataframe thead th {\n",
       "        text-align: right;\n",
       "    }\n",
       "</style>\n",
       "<table border=\"1\" class=\"dataframe\">\n",
       "  <thead>\n",
       "    <tr style=\"text-align: right;\">\n",
       "      <th></th>\n",
       "      <th>Name</th>\n",
       "      <th>Platform</th>\n",
       "      <th>Year_of_Release</th>\n",
       "      <th>Genre</th>\n",
       "      <th>Publisher</th>\n",
       "      <th>NA_Sales</th>\n",
       "      <th>EU_Sales</th>\n",
       "      <th>JP_Sales</th>\n",
       "      <th>Other_Sales</th>\n",
       "      <th>Global_Sales</th>\n",
       "      <th>Critic_Score</th>\n",
       "      <th>Critic_Count</th>\n",
       "      <th>User_Score</th>\n",
       "      <th>User_Count</th>\n",
       "      <th>Developer</th>\n",
       "      <th>Rating</th>\n",
       "    </tr>\n",
       "  </thead>\n",
       "  <tbody>\n",
       "    <tr>\n",
       "      <th>0</th>\n",
       "      <td>Wii Sports</td>\n",
       "      <td>Wii</td>\n",
       "      <td>2006.0</td>\n",
       "      <td>Sports</td>\n",
       "      <td>Nintendo</td>\n",
       "      <td>41.36</td>\n",
       "      <td>28.96</td>\n",
       "      <td>3.77</td>\n",
       "      <td>8.45</td>\n",
       "      <td>82.53</td>\n",
       "      <td>76.0</td>\n",
       "      <td>51.0</td>\n",
       "      <td>8.0</td>\n",
       "      <td>322.0</td>\n",
       "      <td>Nintendo</td>\n",
       "      <td>E</td>\n",
       "    </tr>\n",
       "    <tr>\n",
       "      <th>1</th>\n",
       "      <td>Super Mario Bros.</td>\n",
       "      <td>NES</td>\n",
       "      <td>1985.0</td>\n",
       "      <td>Platform</td>\n",
       "      <td>Nintendo</td>\n",
       "      <td>29.08</td>\n",
       "      <td>3.58</td>\n",
       "      <td>6.81</td>\n",
       "      <td>0.77</td>\n",
       "      <td>40.24</td>\n",
       "      <td>NaN</td>\n",
       "      <td>NaN</td>\n",
       "      <td>NaN</td>\n",
       "      <td>NaN</td>\n",
       "      <td>NaN</td>\n",
       "      <td>NaN</td>\n",
       "    </tr>\n",
       "    <tr>\n",
       "      <th>2</th>\n",
       "      <td>Mario Kart Wii</td>\n",
       "      <td>Wii</td>\n",
       "      <td>2008.0</td>\n",
       "      <td>Racing</td>\n",
       "      <td>Nintendo</td>\n",
       "      <td>15.68</td>\n",
       "      <td>12.76</td>\n",
       "      <td>3.79</td>\n",
       "      <td>3.29</td>\n",
       "      <td>35.52</td>\n",
       "      <td>82.0</td>\n",
       "      <td>73.0</td>\n",
       "      <td>8.3</td>\n",
       "      <td>709.0</td>\n",
       "      <td>Nintendo</td>\n",
       "      <td>E</td>\n",
       "    </tr>\n",
       "    <tr>\n",
       "      <th>3</th>\n",
       "      <td>Wii Sports Resort</td>\n",
       "      <td>Wii</td>\n",
       "      <td>2009.0</td>\n",
       "      <td>Sports</td>\n",
       "      <td>Nintendo</td>\n",
       "      <td>15.61</td>\n",
       "      <td>10.93</td>\n",
       "      <td>3.28</td>\n",
       "      <td>2.95</td>\n",
       "      <td>32.77</td>\n",
       "      <td>80.0</td>\n",
       "      <td>73.0</td>\n",
       "      <td>8.0</td>\n",
       "      <td>192.0</td>\n",
       "      <td>Nintendo</td>\n",
       "      <td>E</td>\n",
       "    </tr>\n",
       "    <tr>\n",
       "      <th>4</th>\n",
       "      <td>Pokemon Red/Pokemon Blue</td>\n",
       "      <td>GB</td>\n",
       "      <td>1996.0</td>\n",
       "      <td>Role-Playing</td>\n",
       "      <td>Nintendo</td>\n",
       "      <td>11.27</td>\n",
       "      <td>8.89</td>\n",
       "      <td>10.22</td>\n",
       "      <td>1.00</td>\n",
       "      <td>31.37</td>\n",
       "      <td>NaN</td>\n",
       "      <td>NaN</td>\n",
       "      <td>NaN</td>\n",
       "      <td>NaN</td>\n",
       "      <td>NaN</td>\n",
       "      <td>NaN</td>\n",
       "    </tr>\n",
       "  </tbody>\n",
       "</table>\n",
       "</div>"
      ],
      "text/plain": [
       "                       Name Platform  Year_of_Release         Genre Publisher  \\\n",
       "0                Wii Sports      Wii           2006.0        Sports  Nintendo   \n",
       "1         Super Mario Bros.      NES           1985.0      Platform  Nintendo   \n",
       "2            Mario Kart Wii      Wii           2008.0        Racing  Nintendo   \n",
       "3         Wii Sports Resort      Wii           2009.0        Sports  Nintendo   \n",
       "4  Pokemon Red/Pokemon Blue       GB           1996.0  Role-Playing  Nintendo   \n",
       "\n",
       "   NA_Sales  EU_Sales  JP_Sales  Other_Sales  Global_Sales  Critic_Score  \\\n",
       "0     41.36     28.96      3.77         8.45         82.53          76.0   \n",
       "1     29.08      3.58      6.81         0.77         40.24           NaN   \n",
       "2     15.68     12.76      3.79         3.29         35.52          82.0   \n",
       "3     15.61     10.93      3.28         2.95         32.77          80.0   \n",
       "4     11.27      8.89     10.22         1.00         31.37           NaN   \n",
       "\n",
       "   Critic_Count  User_Score  User_Count Developer Rating  \n",
       "0          51.0         8.0       322.0  Nintendo      E  \n",
       "1           NaN         NaN         NaN       NaN    NaN  \n",
       "2          73.0         8.3       709.0  Nintendo      E  \n",
       "3          73.0         8.0       192.0  Nintendo      E  \n",
       "4           NaN         NaN         NaN       NaN    NaN  "
      ]
     },
     "execution_count": 3,
     "metadata": {},
     "output_type": "execute_result"
    }
   ],
   "source": [
    "vgsales.head()"
   ]
  },
  {
   "cell_type": "markdown",
   "metadata": {},
   "source": [
    "### Как критики относятся к спортивным играм?"
   ]
  },
  {
   "cell_type": "markdown",
   "metadata": {},
   "source": [
    "Обработка данных. Выделение оценок критиков по спортивным и неспортивным играм."
   ]
  },
  {
   "cell_type": "code",
   "execution_count": 10,
   "metadata": {},
   "outputs": [],
   "source": [
    "sports_scores = vgsales[vgsales.Genre == 'Sports']['Critic_Score'].dropna().values\n",
    "other_scores = vgsales[vgsales.Genre != 'Sports']['Critic_Score'].dropna().values"
   ]
  },
  {
   "cell_type": "code",
   "execution_count": 50,
   "metadata": {
    "scrolled": true
   },
   "outputs": [
    {
     "name": "stdout",
     "output_type": "stream",
     "text": [
      "Кол-во оценок спортивных приложений - 1194\n",
      "Кол-во оценок остальных приложений - 6943\n"
     ]
    }
   ],
   "source": [
    "print(f'Кол-во оценок спортивных приложений -', len(sports_scores))\n",
    "print(f'Кол-во оценок остальных приложений -', len(other_scores))"
   ]
  },
  {
   "cell_type": "markdown",
   "metadata": {},
   "source": [
    "Визуализация и проверка на нормальность распределения оценок игр."
   ]
  },
  {
   "cell_type": "code",
   "execution_count": 49,
   "metadata": {
    "scrolled": true
   },
   "outputs": [
    {
     "data": {
      "image/png": "[encoded data removed]",
      "text/plain": [
       "<Figure size 360x360 with 1 Axes>"
      ]
     },
     "metadata": {
      "needs_background": "light"
     },
     "output_type": "display_data"
    }
   ],
   "source": [
    "fig, ax = plt.subplots(1, 1, figsize=(5, 5))\n",
    "\n",
    "ax = sns.kdeplot(sports_scores), sns.kdeplot(other_scores)\n",
    "ax[0].set_title('App score distribution', size=12)\n",
    "ax[0].legend(('Sport app score distribution', 'Other app score distribution'));"
   ]
  },
  {
   "cell_type": "code",
   "execution_count": 95,
   "metadata": {},
   "outputs": [
    {
     "name": "stdout",
     "output_type": "stream",
     "text": [
      "Статистика=151.25075517450526, p=1.4332297751857863e-33\n",
      "Распределение не является нормальным (нулевая гипотеза отвергается)\n"
     ]
    }
   ],
   "source": [
    "# Проверка оценок спортивных игр\n",
    "stat, p = st.normaltest(sports_scores)\n",
    "print(f'Статистика={stat}, p={p}')\n",
    "\n",
    "alpha = 0.05\n",
    "if p > alpha:\n",
    "    print('Распределение похоже на нормальное (нулевая гипотеза не отвергается)')\n",
    "else:\n",
    "    print('Распределение не является нормальным (нулевая гипотеза отвергается)')"
   ]
  },
  {
   "cell_type": "code",
   "execution_count": 96,
   "metadata": {},
   "outputs": [
    {
     "name": "stdout",
     "output_type": "stream",
     "text": [
      "Статистика=325.39411075695136, p=2.1956677713312428e-71\n",
      "Распределение не является нормальным (нулевая гипотеза отвергается)\n"
     ]
    }
   ],
   "source": [
    "# Проверка оценок остальных игр\n",
    "stat, p = st.normaltest(other_scores)\n",
    "print(f'Статистика={stat}, p={p}')\n",
    "\n",
    "alpha = 0.05\n",
    "if p > alpha:\n",
    "    print('Распределение похоже на нормальное (нулевая гипотеза не отвергается)')\n",
    "else:\n",
    "    print('Распределение не является нормальным (нулевая гипотеза отвергается)')"
   ]
  },
  {
   "cell_type": "markdown",
   "metadata": {},
   "source": [
    "Распределения сравниваемых оценок не являются нормальными и выборки имеют разный размер. При этом хотелось бы иметь возможность сравнить средние оценки, чтобы понять, отдают ли критики предпочтение спортивным играм, так как на графике прослеживается данная гипотеза. Поэтому применим бутсрап, сформируем выборки с нормальным распределением и используем t-test Стьюдента."
   ]
  },
  {
   "cell_type": "code",
   "execution_count": 108,
   "metadata": {},
   "outputs": [],
   "source": [
    "def get_bootstrap_samples(data, n_samples):\n",
    "    results = []\n",
    "\n",
    "#   всегда будет 1000 экземпляров в итоговой выборке\n",
    "    for i in range(0, 1000):\n",
    "#       выбираем рандомные n_samples чисел из выборки\n",
    "        indices = np.random.randint(0, len(data), n_samples)\n",
    "#       из списка берем только те значения, индексы которых совпадают с indices\n",
    "        samples = data[indices]\n",
    "#       считаем среднее оценок и сохраняем значение в списке\n",
    "        result = results.append(samples.mean())\n",
    "    \n",
    "    return results"
   ]
  },
  {
   "cell_type": "code",
   "execution_count": 121,
   "metadata": {},
   "outputs": [],
   "source": [
    "sports_scores_bootstrap = get_bootstrap_samples(sports_scores, 500)\n",
    "other_scores_bootstrap = get_bootstrap_samples(other_scores, 500)"
   ]
  },
  {
   "cell_type": "code",
   "execution_count": 130,
   "metadata": {},
   "outputs": [
    {
     "data": {
      "image/png": "[encoded data removed]",
      "text/plain": [
       "<Figure size 504x504 with 1 Axes>"
      ]
     },
     "metadata": {
      "needs_background": "light"
     },
     "output_type": "display_data"
    }
   ],
   "source": [
    "fig, ax = plt.subplots(1, 1, figsize=(7, 7))\n",
    "\n",
    "ax = sns.kdeplot(sports_scores_bootstrap), sns.kdeplot(other_scores_bootstrap)\n",
    "ax[0].set_title('App score distribution (bootstrap)', size=12)\n",
    "ax[0].set_ylim(0, 0.7)\n",
    "ax[0].legend(('Sport app score distribution', 'Other app score distribution'), loc = 2);"
   ]
  },
  {
   "cell_type": "markdown",
   "metadata": {},
   "source": [
    "По графику видно, что распределения стали похожими на нормальные и видно четкое различие между ними. Но на всякий случай проверим нормальность. "
   ]
  },
  {
   "cell_type": "code",
   "execution_count": 131,
   "metadata": {},
   "outputs": [
    {
     "name": "stdout",
     "output_type": "stream",
     "text": [
      "Статистика=1.5154408935786106, p=0.46873371352116333\n",
      "Распределение похоже на нормальное (нулевая гипотеза не отвергается)\n"
     ]
    }
   ],
   "source": [
    "# Проверка оценок спортивных игр\n",
    "stat, p = st.normaltest(sports_scores_bootstrap)\n",
    "print(f'Статистика={stat}, p={p}')\n",
    "\n",
    "alpha = 0.05\n",
    "if p > alpha:\n",
    "    print('Распределение похоже на нормальное (нулевая гипотеза не отвергается)')\n",
    "else:\n",
    "    print('Распределение не является нормальным (нулевая гипотеза отвергается)')"
   ]
  },
  {
   "cell_type": "code",
   "execution_count": 132,
   "metadata": {},
   "outputs": [
    {
     "name": "stdout",
     "output_type": "stream",
     "text": [
      "Статистика=2.071324769162741, p=0.35499116235850675\n",
      "Распределение похоже на нормальное (нулевая гипотеза не отвергается)\n"
     ]
    }
   ],
   "source": [
    "# Проверка оценок остальных игр\n",
    "stat, p = st.normaltest(other_scores_bootstrap)\n",
    "print(f'Статистика={stat}, p={p}')\n",
    "\n",
    "alpha = 0.05\n",
    "if p > alpha:\n",
    "    print('Распределение похоже на нормальное (нулевая гипотеза не отвергается)')\n",
    "else:\n",
    "    print('Распределение не является нормальным (нулевая гипотеза отвергается)')"
   ]
  },
  {
   "cell_type": "markdown",
   "metadata": {},
   "source": [
    "Применим критерий Фишера, чтобы оценить разность дисперсий и применимость t-критерия Стьюдента"
   ]
  },
  {
   "cell_type": "code",
   "execution_count": 136,
   "metadata": {},
   "outputs": [
    {
     "data": {
      "text/plain": [
       "0.38601983679279284"
      ]
     },
     "execution_count": 136,
     "metadata": {},
     "output_type": "execute_result"
    }
   ],
   "source": [
    "np.var(sports_scores_bootstrap, ddof = 1)"
   ]
  },
  {
   "cell_type": "code",
   "execution_count": 137,
   "metadata": {},
   "outputs": [
    {
     "data": {
      "text/plain": [
       "0.3903371362362365"
      ]
     },
     "execution_count": 137,
     "metadata": {},
     "output_type": "execute_result"
    }
   ],
   "source": [
    "np.var(other_scores_bootstrap, ddof = 1)"
   ]
  },
  {
   "cell_type": "code",
   "execution_count": 154,
   "metadata": {},
   "outputs": [],
   "source": [
    "def f_test(data1, data2):\n",
    "#   расчет дисперсии выборок\n",
    "    var_1 = np.var(data1, ddof = 1)\n",
    "    var_2 = np.var(data2, ddof = 1)\n",
    "#   расчет статистики F\n",
    "    F = max([var_1, var_2]) / min([var_1, var_2])\n",
    "#   определение степеней свободы\n",
    "    df1 = len(data1) - 1\n",
    "    df2 = len(data2) - 1\n",
    "#   определение уровня значимости\n",
    "    alpha = 0.05\n",
    "#   расчет p-value\n",
    "    p_value = st.f.cdf(F, df1, df2)\n",
    "    \n",
    "    print(f'alpha = {alpha}, p = {p_value}')\n",
    "\n",
    "#   Проверка гипотезы о равенстве дисперсий\n",
    "    if p_value > alpha:\n",
    "        print('Дисперсии распределений не отличаются (нулевая гипотеза не отвергается)')\n",
    "    else:\n",
    "        print('Дисперсии распределений отличаются (нулевая гипотеза отвергается)')"
   ]
  },
  {
   "cell_type": "code",
   "execution_count": 155,
   "metadata": {},
   "outputs": [
    {
     "name": "stdout",
     "output_type": "stream",
     "text": [
      "alpha = 0.05, p = 0.5697441418816921\n",
      "Дисперсии распределений не отличаются (нулевая гипотеза не отвергается)\n"
     ]
    }
   ],
   "source": [
    "f_test(sports_scores_bootstrap, other_scores_bootstrap)"
   ]
  },
  {
   "cell_type": "markdown",
   "metadata": {},
   "source": [
    "Проверка по t-тесту того, что средние оценки спортивных игр выше, чем оценки других игр"
   ]
  },
  {
   "cell_type": "code",
   "execution_count": 158,
   "metadata": {},
   "outputs": [
    {
     "name": "stdout",
     "output_type": "stream",
     "text": [
      "alpha = 0.05, p = 0.0\n",
      "Оценки спортивных игр выше оценок остальных приложений (нулевая гипотеза отвергается)\n"
     ]
    }
   ],
   "source": [
    "#   определение уровня значимости\n",
    "alpha = 0.05\n",
    "#   расчет p-value\n",
    "_, p_value = st.ttest_ind(sports_scores_bootstrap, other_scores_bootstrap, alternative='greater')\n",
    "\n",
    "print(f'alpha = {alpha}, p = {p_value}')\n",
    "\n",
    "if p_value > alpha:\n",
    "    print('Оценки спортивных игр не отличаются от оценок остальных приложений (нулевая гипотеза не отвергается)')\n",
    "else:\n",
    "    print('Оценки спортивных игр выше оценок остальных приложений (нулевая гипотеза отвергается)')"
   ]
  },
  {
   "cell_type": "markdown",
   "metadata": {},
   "source": [
    "**Вывод:** В ходе исследования оценок критиков было выявлено значимое предпочтение критиками спортивных игр перед остальными."
   ]
  },
  {
   "cell_type": "markdown",
   "metadata": {},
   "source": [
    "### Критикам нравятся больше игры на PC или на PS4?"
   ]
  },
  {
   "cell_type": "markdown",
   "metadata": {},
   "source": [
    "Обработка данных. Выделение оценок критиков по PC и PS4 играм."
   ]
  },
  {
   "cell_type": "code",
   "execution_count": 160,
   "metadata": {},
   "outputs": [],
   "source": [
    "pc_scores = vgsales[vgsales.Platform == 'PC']['Critic_Score'].dropna().values\n",
    "ps4_scores = vgsales[vgsales.Platform == 'PS4']['Critic_Score'].dropna().values"
   ]
  },
  {
   "cell_type": "code",
   "execution_count": 162,
   "metadata": {
    "scrolled": true
   },
   "outputs": [
    {
     "name": "stdout",
     "output_type": "stream",
     "text": [
      "Кол-во оценок PC приложений - 715\n",
      "Кол-во оценок PS4 приложений - 252\n"
     ]
    }
   ],
   "source": [
    "print(f'Кол-во оценок PC приложений -', len(pc_scores))\n",
    "print(f'Кол-во оценок PS4 приложений -', len(ps4_scores))"
   ]
  },
  {
   "cell_type": "markdown",
   "metadata": {},
   "source": [
    "Визуализация и проверка на нормальность распределения оценок игр."
   ]
  },
  {
   "cell_type": "code",
   "execution_count": 163,
   "metadata": {
    "scrolled": true
   },
   "outputs": [
    {
     "data": {
      "image/png": "[encoded data removed]",
      "text/plain": [
       "<Figure size 360x360 with 1 Axes>"
      ]
     },
     "metadata": {
      "needs_background": "light"
     },
     "output_type": "display_data"
    }
   ],
   "source": [
    "fig, ax = plt.subplots(1, 1, figsize=(5, 5))\n",
    "\n",
    "ax = sns.kdeplot(pc_scores), sns.kdeplot(ps4_scores)\n",
    "ax[0].set_title('App score distribution', size=12)\n",
    "ax[0].legend(('PC score distribution', 'PS4 score distribution'));"
   ]
  },
  {
   "cell_type": "code",
   "execution_count": 164,
   "metadata": {},
   "outputs": [
    {
     "name": "stdout",
     "output_type": "stream",
     "text": [
      "Статистика=75.0002522189909, p=5.17490236032468e-17\n",
      "Распределение не является нормальным (нулевая гипотеза отвергается)\n"
     ]
    }
   ],
   "source": [
    "# Проверка оценок PC игр\n",
    "stat, p = st.normaltest(pc_scores)\n",
    "print(f'Статистика={stat}, p={p}')\n",
    "\n",
    "alpha = 0.05\n",
    "if p > alpha:\n",
    "    print('Распределение похоже на нормальное (нулевая гипотеза не отвергается)')\n",
    "else:\n",
    "    print('Распределение не является нормальным (нулевая гипотеза отвергается)')"
   ]
  },
  {
   "cell_type": "code",
   "execution_count": 166,
   "metadata": {},
   "outputs": [
    {
     "name": "stdout",
     "output_type": "stream",
     "text": [
      "Статистика=54.923660303449196, p=1.1843462850759024e-12\n",
      "Распределение не является нормальным (нулевая гипотеза отвергается)\n"
     ]
    }
   ],
   "source": [
    "# Проверка оценок PS4 игр\n",
    "stat, p = st.normaltest(ps4_scores)\n",
    "print(f'Статистика={stat}, p={p}')\n",
    "\n",
    "alpha = 0.05\n",
    "if p > alpha:\n",
    "    print('Распределение похоже на нормальное (нулевая гипотеза не отвергается)')\n",
    "else:\n",
    "    print('Распределение не является нормальным (нулевая гипотеза отвергается)')"
   ]
  },
  {
   "cell_type": "markdown",
   "metadata": {},
   "source": [
    "Распределения оценок не являются нормальными, кол-во элементов в выборке небольшое. Поэтому применим критерий Манна-Уитни. Так как нужно узнать, нравятся ли критикам PC игры больше, то будет односторонняя альтернатива."
   ]
  },
  {
   "cell_type": "code",
   "execution_count": 167,
   "metadata": {},
   "outputs": [
    {
     "name": "stdout",
     "output_type": "stream",
     "text": [
      "Статистика=73273.5, p=1.1843462850759024e-12\n",
      "Оценки PC выше оценок PS4 игр (нулевая гипотеза отвергается)\n"
     ]
    }
   ],
   "source": [
    "# Проверка оценок PS4 игр\n",
    "stat, p_value = st.mannwhitneyu(pc_scores, ps4_scores)\n",
    "print(f'Статистика={stat}, p={p}')\n",
    "\n",
    "alpha = 0.05\n",
    "if p_value > alpha:\n",
    "    print('Оценки PC игр не отличаются от оценок PS4 игр (нулевая гипотеза не отвергается)')\n",
    "else:\n",
    "    print('Оценки PC выше оценок PS4 игр (нулевая гипотеза отвергается)')"
   ]
  },
  {
   "cell_type": "markdown",
   "metadata": {},
   "source": [
    "**Вывод:** В ходе исследования оценок критиков было выявлено значимое предпочтение критиками PC играми перед PS4 играми."
   ]
  },
  {
   "cell_type": "markdown",
   "metadata": {},
   "source": [
    "### Критикам больше нравятся стрелялки или стратегии?"
   ]
  },
  {
   "cell_type": "markdown",
   "metadata": {},
   "source": [
    "Обработка данных. Выделение оценок критиков по срелялкам и стратегиям."
   ]
  },
  {
   "cell_type": "code",
   "execution_count": 172,
   "metadata": {},
   "outputs": [],
   "source": [
    "shooter_scores = vgsales[vgsales.Genre == 'Shooter']['Critic_Score'].dropna().values\n",
    "strategy_scores = vgsales[vgsales.Genre == 'Strategy']['Critic_Score'].dropna().values"
   ]
  },
  {
   "cell_type": "code",
   "execution_count": 173,
   "metadata": {
    "scrolled": true
   },
   "outputs": [
    {
     "name": "stdout",
     "output_type": "stream",
     "text": [
      "Кол-во оценок стрелялок - 944\n",
      "Кол-во оценок стратегий - 302\n"
     ]
    }
   ],
   "source": [
    "print(f'Кол-во оценок стрелялок -', len(shooter_scores))\n",
    "print(f'Кол-во оценок стратегий -', len(strategy_scores))"
   ]
  },
  {
   "cell_type": "markdown",
   "metadata": {},
   "source": [
    "Визуализация и проверка на нормальность распределения оценок игр."
   ]
  },
  {
   "cell_type": "code",
   "execution_count": 174,
   "metadata": {
    "scrolled": true
   },
   "outputs": [
    {
     "data": {
      "image/png": "[encoded data removed]",
      "text/plain": [
       "<Figure size 360x360 with 1 Axes>"
      ]
     },
     "metadata": {
      "needs_background": "light"
     },
     "output_type": "display_data"
    }
   ],
   "source": [
    "fig, ax = plt.subplots(1, 1, figsize=(5, 5))\n",
    "\n",
    "ax = sns.kdeplot(shooter_scores), sns.kdeplot(strategy_scores)\n",
    "ax[0].set_title('App score distribution', size=12)\n",
    "ax[0].legend(('Shooter score distribution', 'Strategy score distribution'));"
   ]
  },
  {
   "cell_type": "code",
   "execution_count": 175,
   "metadata": {},
   "outputs": [
    {
     "name": "stdout",
     "output_type": "stream",
     "text": [
      "Статистика=66.79847830341916, p=3.1253217666040778e-15\n",
      "Распределение не является нормальным (нулевая гипотеза отвергается)\n"
     ]
    }
   ],
   "source": [
    "# Проверка оценок стрелялок\n",
    "stat, p = st.normaltest(shooter_scores)\n",
    "print(f'Статистика={stat}, p={p}')\n",
    "\n",
    "alpha = 0.05\n",
    "if p > alpha:\n",
    "    print('Распределение похоже на нормальное (нулевая гипотеза не отвергается)')\n",
    "else:\n",
    "    print('Распределение не является нормальным (нулевая гипотеза отвергается)')"
   ]
  },
  {
   "cell_type": "code",
   "execution_count": 176,
   "metadata": {},
   "outputs": [
    {
     "name": "stdout",
     "output_type": "stream",
     "text": [
      "Статистика=14.010932420748738, p=0.0009069110253740046\n",
      "Распределение не является нормальным (нулевая гипотеза отвергается)\n"
     ]
    }
   ],
   "source": [
    "# Проверка оценок PS4 игр\n",
    "stat, p = st.normaltest(strategy_scores)\n",
    "print(f'Статистика={stat}, p={p}')\n",
    "\n",
    "alpha = 0.05\n",
    "if p > alpha:\n",
    "    print('Распределение похоже на нормальное (нулевая гипотеза не отвергается)')\n",
    "else:\n",
    "    print('Распределение не является нормальным (нулевая гипотеза отвергается)')"
   ]
  },
  {
   "cell_type": "markdown",
   "metadata": {},
   "source": [
    "Распределения оценок не являются нормальными, кол-во элементов в выборке небольшое. Поэтому применим критерий Манна-Уитни. Так как нужно узнать, нравятся ли критикам стрелялки больше, то будет односторонняя альтернатива."
   ]
  },
  {
   "cell_type": "code",
   "execution_count": 356,
   "metadata": {},
   "outputs": [
    {
     "name": "stdout",
     "output_type": "stream",
     "text": [
      "Статистика=136251.5, p=0.8762677566191199\n",
      "Оценки стрелялок не отличаются от оценок стратегий (нулевая гипотеза не отвергается)\n"
     ]
    }
   ],
   "source": [
    "# Проверка оценок PS4 игр\n",
    "stat, p_value = st.mannwhitneyu(shooter_scores, strategy_scores, alternative='greater')\n",
    "print(f'Статистика={stat}, p={p_value}')\n",
    "\n",
    "alpha = 0.05\n",
    "if p_value > alpha:\n",
    "    print('Оценки стрелялок не отличаются от оценок стратегий (нулевая гипотеза не отвергается)')\n",
    "else:\n",
    "    print('Оценки стрелялок выше оценок стратегий (нулевая гипотеза отвергается)')"
   ]
  },
  {
   "cell_type": "markdown",
   "metadata": {},
   "source": [
    "**Вывод:** В ходе исследования оценок критиков было выявлено, что средние оценки игр стрелялок не выше оценок игр стратегий. "
   ]
  },
  {
   "cell_type": "markdown",
   "metadata": {},
   "source": [
    "## Задание 2"
   ]
  },
  {
   "cell_type": "markdown",
   "metadata": {},
   "source": [
    "Реализуйте базовую модель логистической регрессии для классификации текстовых сообщений (используемые данные [здесь](https://github.com/obulygin/pyda_homeworks/blob/master/stat_case_study/spam.csv)) по признаку спама. Для этого:\n",
    "\n",
    "1) Привидите весь текст к нижнему регистру;  \n",
    "\n",
    "2) Удалите мусорные символы;  \n",
    "\n",
    "3) Удалите стоп-слова;  \n",
    "\n",
    "4) Привидите все слова к нормальной форме;  \n",
    "\n",
    "5) Преобразуйте все сообщения в вектора TF-IDF. Вам поможет следующий код:  \n",
    "\n",
    "```\n",
    "from sklearn.feature_extraction.text import TfidfVectorizer\n",
    "\n",
    "tfidf = TfidfVectorizer()\n",
    "tfidf_matrix = tfidf.fit_transform(df.Message)\n",
    "names = tfidf.get_feature_names()\n",
    "tfidf_matrix = pd.DataFrame(tfidf_matrix.toarray(), columns=names)\n",
    "```\n",
    "\n",
    "Можете поэкспериментировать с параметрами [TfidfVectorizer](https://scikit-learn.org/stable/modules/generated/sklearn.feature_extraction.text.TfidfVectorizer.html); \n",
    "\n",
    "6) Разделите данные на тестовые и тренировочные в соотношении 30/70, укажите `random_state=42`. Используйте [train_test_split](https://scikit-learn.org/stable/modules/generated/sklearn.model_selection.train_test_split.html);\n",
    "\n",
    "7) Постройте модель [логистической регрессии](https://scikit-learn.org/stable/modules/generated/sklearn.linear_model.LogisticRegression.html), укажите `random_state=42`, оцените ее точность на тестовых данных;  \n",
    "\n",
    "8) Опишите результаты при помощи [confusion_matrix](https://scikit-learn.org/stable/modules/generated/sklearn.metrics.confusion_matrix.html?highlight=confusion_matrix#sklearn.metrics.confusion_matrix);  \n",
    "\n",
    "9) Постройте датафрейм, который будет содержать все исходные тексты сообщений, классифицированные неправильно (с указанием фактического и предсказанного)."
   ]
  },
  {
   "cell_type": "markdown",
   "metadata": {},
   "source": [
    "### Загрузка данных"
   ]
  },
  {
   "cell_type": "code",
   "execution_count": 278,
   "metadata": {},
   "outputs": [
    {
     "data": {
      "text/html": [
       "<div>\n",
       "<style scoped>\n",
       "    .dataframe tbody tr th:only-of-type {\n",
       "        vertical-align: middle;\n",
       "    }\n",
       "\n",
       "    .dataframe tbody tr th {\n",
       "        vertical-align: top;\n",
       "    }\n",
       "\n",
       "    .dataframe thead th {\n",
       "        text-align: right;\n",
       "    }\n",
       "</style>\n",
       "<table border=\"1\" class=\"dataframe\">\n",
       "  <thead>\n",
       "    <tr style=\"text-align: right;\">\n",
       "      <th></th>\n",
       "      <th>Category</th>\n",
       "      <th>Message</th>\n",
       "    </tr>\n",
       "  </thead>\n",
       "  <tbody>\n",
       "    <tr>\n",
       "      <th>0</th>\n",
       "      <td>ham</td>\n",
       "      <td>Go until jurong point, crazy.. Available only ...</td>\n",
       "    </tr>\n",
       "    <tr>\n",
       "      <th>1</th>\n",
       "      <td>ham</td>\n",
       "      <td>Ok lar... Joking wif u oni...</td>\n",
       "    </tr>\n",
       "    <tr>\n",
       "      <th>2</th>\n",
       "      <td>spam</td>\n",
       "      <td>Free entry in 2 a wkly comp to win FA Cup fina...</td>\n",
       "    </tr>\n",
       "    <tr>\n",
       "      <th>3</th>\n",
       "      <td>ham</td>\n",
       "      <td>U dun say so early hor... U c already then say...</td>\n",
       "    </tr>\n",
       "    <tr>\n",
       "      <th>4</th>\n",
       "      <td>ham</td>\n",
       "      <td>Nah I don't think he goes to usf, he lives aro...</td>\n",
       "    </tr>\n",
       "  </tbody>\n",
       "</table>\n",
       "</div>"
      ],
      "text/plain": [
       "  Category                                            Message\n",
       "0      ham  Go until jurong point, crazy.. Available only ...\n",
       "1      ham                      Ok lar... Joking wif u oni...\n",
       "2     spam  Free entry in 2 a wkly comp to win FA Cup fina...\n",
       "3      ham  U dun say so early hor... U c already then say...\n",
       "4      ham  Nah I don't think he goes to usf, he lives aro..."
      ]
     },
     "execution_count": 278,
     "metadata": {},
     "output_type": "execute_result"
    }
   ],
   "source": [
    "spam_data = pd.read_csv('spam.csv')\n",
    "spam_data.head()"
   ]
  },
  {
   "cell_type": "markdown",
   "metadata": {},
   "source": [
    "### Обработка текста"
   ]
  },
  {
   "cell_type": "code",
   "execution_count": 345,
   "metadata": {},
   "outputs": [],
   "source": [
    "def process_message(message):\n",
    "#   приведение к нижнему регистру\n",
    "    result = message.lower()\n",
    "#   удаление спец. символов\n",
    "    result = re.sub('[\\W_]+',' ', result)\n",
    "    return result"
   ]
  },
  {
   "cell_type": "code",
   "execution_count": 346,
   "metadata": {},
   "outputs": [],
   "source": [
    "spam_data['Message'] = spam_data['Message'].apply(process_message)"
   ]
  },
  {
   "cell_type": "code",
   "execution_count": 347,
   "metadata": {},
   "outputs": [
    {
     "data": {
      "text/html": [
       "<div>\n",
       "<style scoped>\n",
       "    .dataframe tbody tr th:only-of-type {\n",
       "        vertical-align: middle;\n",
       "    }\n",
       "\n",
       "    .dataframe tbody tr th {\n",
       "        vertical-align: top;\n",
       "    }\n",
       "\n",
       "    .dataframe thead th {\n",
       "        text-align: right;\n",
       "    }\n",
       "</style>\n",
       "<table border=\"1\" class=\"dataframe\">\n",
       "  <thead>\n",
       "    <tr style=\"text-align: right;\">\n",
       "      <th></th>\n",
       "      <th>Category</th>\n",
       "      <th>Message</th>\n",
       "    </tr>\n",
       "  </thead>\n",
       "  <tbody>\n",
       "    <tr>\n",
       "      <th>0</th>\n",
       "      <td>ham</td>\n",
       "      <td>go until jurong point crazy available only in bugis n great world la e buffet cine there got amore wat</td>\n",
       "    </tr>\n",
       "    <tr>\n",
       "      <th>1</th>\n",
       "      <td>ham</td>\n",
       "      <td>ok lar joking wif u oni</td>\n",
       "    </tr>\n",
       "    <tr>\n",
       "      <th>2</th>\n",
       "      <td>spam</td>\n",
       "      <td>free entry in 2 a wkly comp to win fa cup final tkts 21st may 2005 text fa to 87121 to receive entry question std txt rate t c s apply 08452810075over18 s</td>\n",
       "    </tr>\n",
       "    <tr>\n",
       "      <th>3</th>\n",
       "      <td>ham</td>\n",
       "      <td>u dun say so early hor u c already then say</td>\n",
       "    </tr>\n",
       "    <tr>\n",
       "      <th>4</th>\n",
       "      <td>ham</td>\n",
       "      <td>nah i don t think he goes to usf he lives around here though</td>\n",
       "    </tr>\n",
       "  </tbody>\n",
       "</table>\n",
       "</div>"
      ],
      "text/plain": [
       "  Category  \\\n",
       "0      ham   \n",
       "1      ham   \n",
       "2     spam   \n",
       "3      ham   \n",
       "4      ham   \n",
       "\n",
       "                                                                                                                                                      Message  \n",
       "0                                                     go until jurong point crazy available only in bugis n great world la e buffet cine there got amore wat   \n",
       "1                                                                                                                                    ok lar joking wif u oni   \n",
       "2  free entry in 2 a wkly comp to win fa cup final tkts 21st may 2005 text fa to 87121 to receive entry question std txt rate t c s apply 08452810075over18 s  \n",
       "3                                                                                                                u dun say so early hor u c already then say   \n",
       "4                                                                                                nah i don t think he goes to usf he lives around here though  "
      ]
     },
     "execution_count": 347,
     "metadata": {},
     "output_type": "execute_result"
    }
   ],
   "source": [
    "spam_data.head()"
   ]
  },
  {
   "cell_type": "markdown",
   "metadata": {},
   "source": [
    "### Подготовка пайплайна для обработки и классификации текста"
   ]
  },
  {
   "cell_type": "code",
   "execution_count": 348,
   "metadata": {},
   "outputs": [],
   "source": [
    "def normilize_message(message):\n",
    "    tokens = word_tokenize(message)\n",
    "    lemmatizer = WordNetLemmatizer()\n",
    "    return [lemmatizer.lemmatize(word) for word in tokens]"
   ]
  },
  {
   "cell_type": "code",
   "execution_count": 349,
   "metadata": {},
   "outputs": [],
   "source": [
    "text_clf = Pipeline([\n",
    "     ('tfidf', TfidfVectorizer(tokenizer = normilize_message, stop_words = text.ENGLISH_STOP_WORDS)),\n",
    "     ('clf', LogisticRegression(random_state = 42))])"
   ]
  },
  {
   "cell_type": "markdown",
   "metadata": {},
   "source": [
    "### Разделение данных на данные для обучения и теста"
   ]
  },
  {
   "cell_type": "code",
   "execution_count": 350,
   "metadata": {},
   "outputs": [],
   "source": [
    "X_train, X_test, y_train, y_test = train_test_split(train.Message, train.Category, test_size=0.2, random_state=42)"
   ]
  },
  {
   "cell_type": "markdown",
   "metadata": {},
   "source": [
    "### Тренировка модели"
   ]
  },
  {
   "cell_type": "code",
   "execution_count": 351,
   "metadata": {},
   "outputs": [
    {
     "data": {
      "text/plain": [
       "Pipeline(steps=[('tfidf',\n",
       "                 TfidfVectorizer(stop_words=frozenset({'a', 'about', 'above',\n",
       "                                                       'across', 'after',\n",
       "                                                       'afterwards', 'again',\n",
       "                                                       'against', 'all',\n",
       "                                                       'almost', 'alone',\n",
       "                                                       'along', 'already',\n",
       "                                                       'also', 'although',\n",
       "                                                       'always', 'am', 'among',\n",
       "                                                       'amongst', 'amoungst',\n",
       "                                                       'amount', 'an', 'and',\n",
       "                                                       'another', 'any',\n",
       "                                                       'anyhow', 'anyone',\n",
       "                                                       'anything', 'anyway',\n",
       "                                                       'anywhere', ...}),\n",
       "                                 tokenizer=<function normilize_message at 0x000001E197846AF0>)),\n",
       "                ('clf', LogisticRegression(random_state=42))])"
      ]
     },
     "execution_count": 351,
     "metadata": {},
     "output_type": "execute_result"
    }
   ],
   "source": [
    "text_clf.fit(X_train, y_train)"
   ]
  },
  {
   "cell_type": "markdown",
   "metadata": {},
   "source": [
    "### Оценка модели"
   ]
  },
  {
   "cell_type": "code",
   "execution_count": 352,
   "metadata": {},
   "outputs": [
    {
     "name": "stdout",
     "output_type": "stream",
     "text": [
      "Матрица ошибок: \n",
      " [[667   0]\n",
      " [ 31  82]]\n",
      "\n",
      "Точность предсказания: \n",
      " 0.9602564102564103\n"
     ]
    }
   ],
   "source": [
    "y_pred = text_clf.predict(X_test)\n",
    "print('Матрица ошибок: \\n', confusion_matrix(y_test,y_pred))\n",
    "print()\n",
    "print('Точность предсказания: \\n', accuracy_score(y_test, y_pred))"
   ]
  },
  {
   "cell_type": "markdown",
   "metadata": {},
   "source": [
    "### Выводы по результатам"
   ]
  },
  {
   "cell_type": "markdown",
   "metadata": {},
   "source": [
    "Построенная модель верно определяет тип письма в 96% случаев. При этом при предсказании результатов случались ошибки FN типа. То есть был предсказан \"не спам\", когда это был \"спам\". Обратных ошибок, когда не пропускался \"не спам\" не было. Как мне кажется ошибки такого рода допустимы. Так как лучше получить несколько \"нежелательных\" писем, чем обнаружить нужное сообщение в спаме."
   ]
  },
  {
   "cell_type": "markdown",
   "metadata": {},
   "source": [
    "### Вывод некорректно распознанных сообщений"
   ]
  },
  {
   "cell_type": "code",
   "execution_count": 353,
   "metadata": {},
   "outputs": [],
   "source": [
    "pred_data = pd.DataFrame(np.stack([X_test, y_test, y_pred], axis=1), columns=['Message', 'true_category', 'pred_category'])"
   ]
  },
  {
   "cell_type": "code",
   "execution_count": 354,
   "metadata": {},
   "outputs": [
    {
     "data": {
      "text/html": [
       "<div>\n",
       "<style scoped>\n",
       "    .dataframe tbody tr th:only-of-type {\n",
       "        vertical-align: middle;\n",
       "    }\n",
       "\n",
       "    .dataframe tbody tr th {\n",
       "        vertical-align: top;\n",
       "    }\n",
       "\n",
       "    .dataframe thead th {\n",
       "        text-align: right;\n",
       "    }\n",
       "</style>\n",
       "<table border=\"1\" class=\"dataframe\">\n",
       "  <thead>\n",
       "    <tr style=\"text-align: right;\">\n",
       "      <th></th>\n",
       "      <th>Message</th>\n",
       "      <th>true_category</th>\n",
       "      <th>pred_category</th>\n",
       "    </tr>\n",
       "  </thead>\n",
       "  <tbody>\n",
       "    <tr>\n",
       "      <th>14</th>\n",
       "      <td>tddnewsletter emc1 co uk  more games from thedailydraw  dear helen  dozens of free games   with great prizeswith</td>\n",
       "      <td>spam</td>\n",
       "      <td>ham</td>\n",
       "    </tr>\n",
       "    <tr>\n",
       "      <th>39</th>\n",
       "      <td>text pass to 69669 to collect your polyphonic ringtones  normal gprs charges apply only  enjoy your tones</td>\n",
       "      <td>spam</td>\n",
       "      <td>ham</td>\n",
       "    </tr>\n",
       "    <tr>\n",
       "      <th>74</th>\n",
       "      <td>25p 4 alfie moon s children in need song on ur mob  tell ur m8s  txt tone charity to 8007 for nokias or poly charity for polys  zed 08701417012 profit 2 charity</td>\n",
       "      <td>spam</td>\n",
       "      <td>ham</td>\n",
       "    </tr>\n",
       "    <tr>\n",
       "      <th>90</th>\n",
       "      <td>get your garden ready for summer with a free selection of summer bulbs and seeds worth £33 50 only with the scotsman this saturday  to stop go2 notxt co uk</td>\n",
       "      <td>spam</td>\n",
       "      <td>ham</td>\n",
       "    </tr>\n",
       "    <tr>\n",
       "      <th>98</th>\n",
       "      <td>claire here am havin borin time   am now alone u wanna cum over 2nite  chat now 09099725823 hope 2 c u luv claire xx calls£1 minmoremobsemspobox45po139wa</td>\n",
       "      <td>spam</td>\n",
       "      <td>ham</td>\n",
       "    </tr>\n",
       "    <tr>\n",
       "      <th>103</th>\n",
       "      <td>congrats  1 year special cinema pass for 2 is yours  call 09061209465 now  c suprman v  matrix3  starwars3  etc all 4 free  bx420 ip4 5we  150pm  dont miss out</td>\n",
       "      <td>spam</td>\n",
       "      <td>ham</td>\n",
       "    </tr>\n",
       "    <tr>\n",
       "      <th>117</th>\n",
       "      <td>asked 3mobile if 0870 chatlines inclu in free mins  india cust servs sed yes  l8er got mega bill  3 dont giv a shit  bailiff due in days  i o £250 3 want £800</td>\n",
       "      <td>spam</td>\n",
       "      <td>ham</td>\n",
       "    </tr>\n",
       "    <tr>\n",
       "      <th>155</th>\n",
       "      <td>freemsg hi baby wow just got a new cam moby  wanna c a hot pic  or fancy a chat im w8in 4utxt   rply chat to 82242 hlp 08712317606 msg150p 2rcv</td>\n",
       "      <td>spam</td>\n",
       "      <td>ham</td>\n",
       "    </tr>\n",
       "    <tr>\n",
       "      <th>233</th>\n",
       "      <td>update now   12mths half price orange line rental  400mins   call mobileupd8 on 08000839402 or call2optout j5q</td>\n",
       "      <td>spam</td>\n",
       "      <td>ham</td>\n",
       "    </tr>\n",
       "    <tr>\n",
       "      <th>258</th>\n",
       "      <td>good luck  draw takes place 28th feb 06  good luck  for removal send stop to 87239 customer services 08708034412</td>\n",
       "      <td>spam</td>\n",
       "      <td>ham</td>\n",
       "    </tr>\n",
       "    <tr>\n",
       "      <th>268</th>\n",
       "      <td>am new 2 club   dont fink we met yet will b gr8 2 c u please leave msg 2day wiv ur area 09099726553 reply promised carlie x calls£1 minmobsmore lkpobox177hp51fl</td>\n",
       "      <td>spam</td>\n",
       "      <td>ham</td>\n",
       "    </tr>\n",
       "    <tr>\n",
       "      <th>274</th>\n",
       "      <td>oh my god  i ve found your number again  i m so glad  text me back xafter this msgs cst std ntwk chg £1 50</td>\n",
       "      <td>spam</td>\n",
       "      <td>ham</td>\n",
       "    </tr>\n",
       "    <tr>\n",
       "      <th>305</th>\n",
       "      <td>did you hear about the new  divorce barbie   it comes with all of ken s stuff</td>\n",
       "      <td>spam</td>\n",
       "      <td>ham</td>\n",
       "    </tr>\n",
       "    <tr>\n",
       "      <th>330</th>\n",
       "      <td>you have an important customer service announcement from premier</td>\n",
       "      <td>spam</td>\n",
       "      <td>ham</td>\n",
       "    </tr>\n",
       "    <tr>\n",
       "      <th>332</th>\n",
       "      <td>a link to your picture has been sent  you can also use http   alto18 co uk wave wave asp o 44345</td>\n",
       "      <td>spam</td>\n",
       "      <td>ham</td>\n",
       "    </tr>\n",
       "    <tr>\n",
       "      <th>338</th>\n",
       "      <td>send a logo 2 ur lover   2 names joined by a heart  txt love name1 name2 mobno eg love adam eve 07123456789 to 87077 yahoo  pobox36504w45wq txtno 4 no ads 150p</td>\n",
       "      <td>spam</td>\n",
       "      <td>ham</td>\n",
       "    </tr>\n",
       "    <tr>\n",
       "      <th>410</th>\n",
       "      <td>you will recieve your tone within the next 24hrs  for terms and conditions please see channel u teletext pg 750</td>\n",
       "      <td>spam</td>\n",
       "      <td>ham</td>\n",
       "    </tr>\n",
       "    <tr>\n",
       "      <th>438</th>\n",
       "      <td>your next amazing xxx picsfree1 video will be sent to you enjoy  if one vid is not enough for 2day text back the keyword picsfree1 to get the next video</td>\n",
       "      <td>spam</td>\n",
       "      <td>ham</td>\n",
       "    </tr>\n",
       "    <tr>\n",
       "      <th>457</th>\n",
       "      <td>thanks for the vote  now sing along with the stars with karaoke on your mobile  for a free link just reply with sing now</td>\n",
       "      <td>spam</td>\n",
       "      <td>ham</td>\n",
       "    </tr>\n",
       "    <tr>\n",
       "      <th>494</th>\n",
       "      <td>error</td>\n",
       "      <td>spam</td>\n",
       "      <td>ham</td>\n",
       "    </tr>\n",
       "    <tr>\n",
       "      <th>501</th>\n",
       "      <td>call freephone 0800 542 0578 now</td>\n",
       "      <td>spam</td>\n",
       "      <td>ham</td>\n",
       "    </tr>\n",
       "    <tr>\n",
       "      <th>533</th>\n",
       "      <td>thesmszone com lets you send free anonymous and masked messages  im sending this message from there  do you see the potential for abuse</td>\n",
       "      <td>spam</td>\n",
       "      <td>ham</td>\n",
       "    </tr>\n",
       "    <tr>\n",
       "      <th>538</th>\n",
       "      <td>todays voda numbers ending 7548 are selected to receive a  350 award  if you have a match please call 08712300220 quoting claim code 4041 standard rates app</td>\n",
       "      <td>spam</td>\n",
       "      <td>ham</td>\n",
       "    </tr>\n",
       "    <tr>\n",
       "      <th>554</th>\n",
       "      <td>congrats  1 year special cinema pass for 2 is yours  call 09061209465 now  c suprman v  matrix3  starwars3  etc all 4 free  bx420 ip4 5we  150pm  dont miss out</td>\n",
       "      <td>spam</td>\n",
       "      <td>ham</td>\n",
       "    </tr>\n",
       "    <tr>\n",
       "      <th>561</th>\n",
       "      <td>a £400 xmas reward is waiting for you  our computer has randomly picked you from our loyal mobile customers to receive a £400 reward  just call 09066380611</td>\n",
       "      <td>spam</td>\n",
       "      <td>ham</td>\n",
       "    </tr>\n",
       "    <tr>\n",
       "      <th>575</th>\n",
       "      <td>more people are dogging in your area now  call 09090204448 and join like minded guys  why not arrange 1 yourself  there s 1 this evening  a£1 50 minapn ls278bb</td>\n",
       "      <td>spam</td>\n",
       "      <td>ham</td>\n",
       "    </tr>\n",
       "    <tr>\n",
       "      <th>587</th>\n",
       "      <td>as a registered subscriber yr draw 4 a £100 gift voucher will b entered on receipt of a correct ans  when are the next olympics  txt ans to 80062</td>\n",
       "      <td>spam</td>\n",
       "      <td>ham</td>\n",
       "    </tr>\n",
       "    <tr>\n",
       "      <th>616</th>\n",
       "      <td>forwarded from 448712404000 please call 08712404000 immediately as there is an urgent message waiting for you</td>\n",
       "      <td>spam</td>\n",
       "      <td>ham</td>\n",
       "    </tr>\n",
       "    <tr>\n",
       "      <th>623</th>\n",
       "      <td>great news  call freefone 08006344447 to claim your guaranteed £1000 cash or £2000 gift  speak to a live operator now</td>\n",
       "      <td>spam</td>\n",
       "      <td>ham</td>\n",
       "    </tr>\n",
       "    <tr>\n",
       "      <th>652</th>\n",
       "      <td>sms  ac sun0819 posts hello  you seem cool  wanted to say hi  hi     stop  send stop to 62468</td>\n",
       "      <td>spam</td>\n",
       "      <td>ham</td>\n",
       "    </tr>\n",
       "    <tr>\n",
       "      <th>753</th>\n",
       "      <td>valentines day special  win over £1000 in our quiz and take your partner on the trip of a lifetime  send go to 83600 now  150p msg rcvd  custcare 08718720201</td>\n",
       "      <td>spam</td>\n",
       "      <td>ham</td>\n",
       "    </tr>\n",
       "  </tbody>\n",
       "</table>\n",
       "</div>"
      ],
      "text/plain": [
       "                                                                                                                                                               Message  \\\n",
       "14                                                  tddnewsletter emc1 co uk  more games from thedailydraw  dear helen  dozens of free games   with great prizeswith     \n",
       "39                                                           text pass to 69669 to collect your polyphonic ringtones  normal gprs charges apply only  enjoy your tones   \n",
       "74   25p 4 alfie moon s children in need song on ur mob  tell ur m8s  txt tone charity to 8007 for nokias or poly charity for polys  zed 08701417012 profit 2 charity    \n",
       "90         get your garden ready for summer with a free selection of summer bulbs and seeds worth £33 50 only with the scotsman this saturday  to stop go2 notxt co uk   \n",
       "98           claire here am havin borin time   am now alone u wanna cum over 2nite  chat now 09099725823 hope 2 c u luv claire xx calls£1 minmoremobsemspobox45po139wa   \n",
       "103   congrats  1 year special cinema pass for 2 is yours  call 09061209465 now  c suprman v  matrix3  starwars3  etc all 4 free  bx420 ip4 5we  150pm  dont miss out    \n",
       "117     asked 3mobile if 0870 chatlines inclu in free mins  india cust servs sed yes  l8er got mega bill  3 dont giv a shit  bailiff due in days  i o £250 3 want £800   \n",
       "155                    freemsg hi baby wow just got a new cam moby  wanna c a hot pic  or fancy a chat im w8in 4utxt   rply chat to 82242 hlp 08712317606 msg150p 2rcv   \n",
       "233                                                     update now   12mths half price orange line rental  400mins   call mobileupd8 on 08000839402 or call2optout j5q   \n",
       "258                                                   good luck  draw takes place 28th feb 06  good luck  for removal send stop to 87239 customer services 08708034412   \n",
       "268   am new 2 club   dont fink we met yet will b gr8 2 c u please leave msg 2day wiv ur area 09099726553 reply promised carlie x calls£1 minmobsmore lkpobox177hp51fl   \n",
       "274                                                         oh my god  i ve found your number again  i m so glad  text me back xafter this msgs cst std ntwk chg £1 50   \n",
       "305                                                                                     did you hear about the new  divorce barbie   it comes with all of ken s stuff    \n",
       "330                                                                                                  you have an important customer service announcement from premier    \n",
       "332                                                                   a link to your picture has been sent  you can also use http   alto18 co uk wave wave asp o 44345   \n",
       "338    send a logo 2 ur lover   2 names joined by a heart  txt love name1 name2 mobno eg love adam eve 07123456789 to 87077 yahoo  pobox36504w45wq txtno 4 no ads 150p   \n",
       "410                                                    you will recieve your tone within the next 24hrs  for terms and conditions please see channel u teletext pg 750   \n",
       "438          your next amazing xxx picsfree1 video will be sent to you enjoy  if one vid is not enough for 2day text back the keyword picsfree1 to get the next video    \n",
       "457                                          thanks for the vote  now sing along with the stars with karaoke on your mobile  for a free link just reply with sing now    \n",
       "494                                                                                                                                                             error    \n",
       "501                                                                                                                                  call freephone 0800 542 0578 now    \n",
       "533                         thesmszone com lets you send free anonymous and masked messages  im sending this message from there  do you see the potential for abuse      \n",
       "538       todays voda numbers ending 7548 are selected to receive a  350 award  if you have a match please call 08712300220 quoting claim code 4041 standard rates app   \n",
       "554   congrats  1 year special cinema pass for 2 is yours  call 09061209465 now  c suprman v  matrix3  starwars3  etc all 4 free  bx420 ip4 5we  150pm  dont miss out    \n",
       "561        a £400 xmas reward is waiting for you  our computer has randomly picked you from our loyal mobile customers to receive a £400 reward  just call 09066380611   \n",
       "575    more people are dogging in your area now  call 09090204448 and join like minded guys  why not arrange 1 yourself  there s 1 this evening  a£1 50 minapn ls278bb   \n",
       "587                  as a registered subscriber yr draw 4 a £100 gift voucher will b entered on receipt of a correct ans  when are the next olympics  txt ans to 80062   \n",
       "616                                                     forwarded from 448712404000 please call 08712404000 immediately as there is an urgent message waiting for you    \n",
       "623                                             great news  call freefone 08006344447 to claim your guaranteed £1000 cash or £2000 gift  speak to a live operator now    \n",
       "652                                                                      sms  ac sun0819 posts hello  you seem cool  wanted to say hi  hi     stop  send stop to 62468   \n",
       "753     valentines day special  win over £1000 in our quiz and take your partner on the trip of a lifetime  send go to 83600 now  150p msg rcvd  custcare 08718720201    \n",
       "\n",
       "    true_category pred_category  \n",
       "14           spam           ham  \n",
       "39           spam           ham  \n",
       "74           spam           ham  \n",
       "90           spam           ham  \n",
       "98           spam           ham  \n",
       "103          spam           ham  \n",
       "117          spam           ham  \n",
       "155          spam           ham  \n",
       "233          spam           ham  \n",
       "258          spam           ham  \n",
       "268          spam           ham  \n",
       "274          spam           ham  \n",
       "305          spam           ham  \n",
       "330          spam           ham  \n",
       "332          spam           ham  \n",
       "338          spam           ham  \n",
       "410          spam           ham  \n",
       "438          spam           ham  \n",
       "457          spam           ham  \n",
       "494          spam           ham  \n",
       "501          spam           ham  \n",
       "533          spam           ham  \n",
       "538          spam           ham  \n",
       "554          spam           ham  \n",
       "561          spam           ham  \n",
       "575          spam           ham  \n",
       "587          spam           ham  \n",
       "616          spam           ham  \n",
       "623          spam           ham  \n",
       "652          spam           ham  \n",
       "753          spam           ham  "
      ]
     },
     "execution_count": 354,
     "metadata": {},
     "output_type": "execute_result"
    }
   ],
   "source": [
    "pred_data[pred_data.true_category != pred_data.pred_category]"
   ]
  },
  {
   "cell_type": "markdown",
   "metadata": {},
   "source": [
    "#### ПРИМЕЧАНИЕ\n",
    "Домашнее задание сдается ссылкой на репозиторий [GitHub](https://github.com/).\n",
    "Не сможем проверить или помочь, если вы пришлете:\n",
    "- файлы;\n",
    "- архивы;\n",
    "- скриншоты кода.\n",
    "\n",
    "Все обсуждения и консультации по выполнению домашнего задания ведутся только на соответствующем канале в slack.\n",
    "\n",
    "##### Как правильно задавать вопросы аспирантам, преподавателям и коллегам?\n",
    "Прежде чем задать вопрос необходимо попробовать найти ответ самому в интернете. Навык самостоятельного поиска информации – один из важнейших, и каждый практикующий специалист любого уровня это делает каждый день.\n",
    "\n",
    "Любой вопрос должен быть сформулирован по алгоритму:  \n",
    "1) Что я делаю?  \n",
    "2) Какого результата я ожидаю?  \n",
    "3) Как фактический результат отличается от ожидаемого?  \n",
    "4) Что я уже попробовал сделать, чтобы исправить проблему?  \n",
    "\n",
    "По возможности, прикрепляйте к вопросу скриншоты, либо ссылки на код. Оставляйте только проблемный и воспроизводимый участок кода, все решение выкладывать не допускается.\n"
   ]
  }
 ],
 "metadata": {
  "kernelspec": {
   "display_name": "Python 3",
   "language": "python",
   "name": "python3"
  },
  "language_info": {
   "codemirror_mode": {
    "name": "ipython",
    "version": 3
   },
   "file_extension": ".py",
   "mimetype": "text/x-python",
   "name": "python",
   "nbconvert_exporter": "python",
   "pygments_lexer": "ipython3",
   "version": "3.8.8"
  }
 },
 "nbformat": 4,
 "nbformat_minor": 2
}
