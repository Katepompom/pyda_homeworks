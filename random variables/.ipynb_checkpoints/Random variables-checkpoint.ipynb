{
 "cells": [
  {
   "cell_type": "code",
   "execution_count": 1,
   "id": "eefea154",
   "metadata": {},
   "outputs": [],
   "source": [
    "import numpy as np"
   ]
  },
  {
   "cell_type": "markdown",
   "id": "e9ef6be6",
   "metadata": {},
   "source": [
    "### Задание"
   ]
  },
  {
   "cell_type": "markdown",
   "id": "17f669ad",
   "metadata": {},
   "source": [
    "Смоделировать игру против лотерейного автомата типа “777”. Игрок платит 1 руб., после чего выпадает случайное целое число, равномерно распределенное от 0 до 999. При некоторых значениях числа игрок получает выигрыш:\n",
    "\n",
    "777: 200 руб.  \n",
    "999: 100 руб.  \n",
    "555: 50 руб.  \n",
    "333: 15 руб.  \n",
    "111: 10 руб.  \n",
    "\\*77: 5 руб.  \n",
    "\\*\\*7: 3 руб.  \n",
    "\\*00: 2 руб.  \n",
    "\\*\\*0: 1 руб.  \n",
    "\n",
    "Выгодна ли игра игроку?\n",
    "\n",
    "Сколько в среднем приобретает\n",
    "или теряет игрок за одну игру?\n",
    "\n",
    "\n",
    "\\* - любая цифра\n",
    "\n",
    "Дополнительное задание повышенной сложности. Теоретически рассчитать средний выигрыш (проигрыш) и сравнить с результатами моделирования"
   ]
  },
  {
   "cell_type": "markdown",
   "id": "d8e85875",
   "metadata": {},
   "source": [
    "### Решение"
   ]
  },
  {
   "cell_type": "code",
   "execution_count": 141,
   "id": "8135bd6b",
   "metadata": {},
   "outputs": [],
   "source": [
    "def play_game():\n",
    "    n = np.random.randint(0, 1000)\n",
    "#   вычитаем из каждого выигрыша 1, так как мы ее тратим на игру\n",
    "    if n == 777:\n",
    "        return 199\n",
    "    elif n == 999:\n",
    "        return 99\n",
    "    elif n == 555:\n",
    "        return 49\n",
    "    elif n == 333:\n",
    "        return 14\n",
    "    elif n == 111:\n",
    "        return 9\n",
    "    elif n % 100 == 77:\n",
    "        return 4\n",
    "    elif n % 10 == 7:\n",
    "        return 3\n",
    "    elif n % 100 == 0:\n",
    "        return 1\n",
    "    elif n % 10 == 0:\n",
    "        return 0\n",
    "    else:\n",
    "        return -1"
   ]
  },
  {
   "cell_type": "code",
   "execution_count": 142,
   "id": "ff84441b",
   "metadata": {},
   "outputs": [
    {
     "data": {
      "text/plain": [
       "0"
      ]
     },
     "execution_count": 142,
     "metadata": {},
     "output_type": "execute_result"
    }
   ],
   "source": [
    "play_game()"
   ]
  },
  {
   "cell_type": "code",
   "execution_count": 153,
   "id": "35b1b292",
   "metadata": {},
   "outputs": [
    {
     "name": "stdout",
     "output_type": "stream",
     "text": [
      "Average gain =  -0.11803\n"
     ]
    }
   ],
   "source": [
    "trials = 100000\n",
    "result = [] \n",
    "\n",
    "for i in range(trials) :\n",
    "    result.append(play_game())\n",
    "        \n",
    "print('Average gain = ', np.mean(result))"
   ]
  },
  {
   "cell_type": "markdown",
   "id": "dccb5233",
   "metadata": {},
   "source": [
    "Выигрыш в среднем составляет 0 рублей, следовательно такая игра невыгодна игроку."
   ]
  },
  {
   "cell_type": "code",
   "execution_count": null,
   "id": "b366f025",
   "metadata": {},
   "outputs": [],
   "source": []
  }
 ],
 "metadata": {
  "kernelspec": {
   "display_name": "Python 3",
   "language": "python",
   "name": "python3"
  },
  "language_info": {
   "codemirror_mode": {
    "name": "ipython",
    "version": 3
   },
   "file_extension": ".py",
   "mimetype": "text/x-python",
   "name": "python",
   "nbconvert_exporter": "python",
   "pygments_lexer": "ipython3",
   "version": "3.8.8"
  }
 },
 "nbformat": 4,
 "nbformat_minor": 5
}
