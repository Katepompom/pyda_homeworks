{
 "cells": [
  {
   "cell_type": "code",
   "execution_count": 1,
   "id": "eefea154",
   "metadata": {},
   "outputs": [],
   "source": [
    "import numpy as np"
   ]
  },
  {
   "cell_type": "markdown",
   "id": "e9ef6be6",
   "metadata": {},
   "source": [
    "### Задание"
   ]
  },
  {
   "cell_type": "markdown",
   "id": "17f669ad",
   "metadata": {},
   "source": [
    "Смоделировать игру против лотерейного автомата типа “777”. Игрок платит 1 руб., после чего выпадает случайное целое число, равномерно распределенное от 0 до 999. При некоторых значениях числа игрок получает выигрыш:\n",
    "\n",
    "777: 200 руб.  \n",
    "999: 100 руб.  \n",
    "555: 50 руб.  \n",
    "333: 15 руб.  \n",
    "111: 10 руб.  \n",
    "\\*77: 5 руб.  \n",
    "\\*\\*7: 3 руб.  \n",
    "\\*00: 2 руб.  \n",
    "\\*\\*0: 1 руб.  \n",
    "\n",
    "Выгодна ли игра игроку?\n",
    "\n",
    "Сколько в среднем приобретает\n",
    "или теряет игрок за одну игру?\n",
    "\n",
    "\n",
    "\\* - любая цифра\n",
    "\n",
    "Дополнительное задание повышенной сложности. Теоретически рассчитать средний выигрыш (проигрыш) и сравнить с результатами моделирования"
   ]
  },
  {
   "cell_type": "markdown",
   "id": "d8e85875",
   "metadata": {},
   "source": [
    "### Решение"
   ]
  },
  {
   "cell_type": "code",
   "execution_count": 141,
   "id": "8135bd6b",
   "metadata": {},
   "outputs": [],
   "source": [
    "def play_game():\n",
    "    n = np.random.randint(0, 1000)\n",
    "#   вычитаем из каждого выигрыша 1, так как мы ее тратим на игру\n",
    "    if n == 777:\n",
    "        return 199\n",
    "    elif n == 999:\n",
    "        return 99\n",
    "    elif n == 555:\n",
    "        return 49\n",
    "    elif n == 333:\n",
    "        return 14\n",
    "    elif n == 111:\n",
    "        return 9\n",
    "    elif n % 100 == 77:\n",
    "        return 4\n",
    "    elif n % 10 == 7:\n",
    "        return 3\n",
    "    elif n % 100 == 0:\n",
    "        return 1\n",
    "    elif n % 10 == 0:\n",
    "        return 0\n",
    "    else:\n",
    "        return -1"
   ]
  },
  {
   "cell_type": "code",
   "execution_count": 155,
   "id": "749b3f17",
   "metadata": {},
   "outputs": [
    {
     "name": "stdout",
     "output_type": "stream",
     "text": [
      "Average gain =  -0.121508\n"
     ]
    }
   ],
   "source": [
    "trials = 1000000\n",
    "result = [] \n",
    "\n",
    "for i in range(trials) :\n",
    "    result.append(play_game())\n",
    "        \n",
    "print('Average gain = ', np.mean(result))"
   ]
  },
  {
   "cell_type": "markdown",
   "id": "bd49e9d1",
   "metadata": {},
   "source": [
    "Выигрыш в среднем составляет 0 рублей, следовательно такая игра невыгодна игроку."
   ]
  },
  {
   "cell_type": "markdown",
   "id": "40d8d276",
   "metadata": {},
   "source": [
    "Теоретический расчет. Используется формула полной вероятности.\n",
    "\n",
    "Алгоритм расчета:\n",
    "\n",
    "- Для каждого выигрышного числа рассчитывается вероятность его выпадения и умножается на размер выигрыша минус плата за игру.\n",
    "\n",
    "- Для проигрышных чисел также идет расчет, умножение идет на цену игры\n",
    "\n",
    "- Итоговые значения выигрыша по каждому числу складываются\n",
    "\n",
    "- Если число оканчивается на 0, для него выигрыш будет 0 и не нужно отдельно считать для него средний выигрыш"
   ]
  },
  {
   "cell_type": "code",
   "execution_count": 154,
   "id": "c2583849",
   "metadata": {
    "scrolled": true
   },
   "outputs": [
    {
     "name": "stdout",
     "output_type": "stream",
     "text": [
      "Average gain =  -0.20000000000000048\n"
     ]
    }
   ],
   "source": [
    "E = 0 # итоговое среднее значение\n",
    "base_prob = 1/1000 # вер-ть выпадения каждого числа\n",
    "\n",
    "for i in range(0, 1000):\n",
    "    if i == 777:\n",
    "        E += 199 * base_prob\n",
    "    elif i == 999:\n",
    "        E += 99 * base_prob\n",
    "    elif i == 555:\n",
    "        E += 49 * base_prob\n",
    "    elif i == 333:\n",
    "        E += 14 * base_prob\n",
    "    elif i == 111:\n",
    "        E += 9 * base_prob\n",
    "    elif i % 100 == 77:\n",
    "        E += 4 * base_prob\n",
    "    elif i % 10 == 7:\n",
    "        E += 3 * base_prob\n",
    "    elif i % 100 == 0:\n",
    "        E += 1 * base_prob\n",
    "    else:\n",
    "        E += -1 * base_prob\n",
    "        \n",
    "print('Average gain = ', E)"
   ]
  },
  {
   "cell_type": "markdown",
   "id": "832a790c",
   "metadata": {},
   "source": [
    "Или можно посчитать так"
   ]
  },
  {
   "cell_type": "code",
   "execution_count": 4,
   "id": "a105cdac",
   "metadata": {},
   "outputs": [
    {
     "data": {
      "text/plain": [
       "-0.20000000000000007"
      ]
     },
     "execution_count": 4,
     "metadata": {},
     "output_type": "execute_result"
    }
   ],
   "source": [
    "res = 0.001*(199 + 99 + 49 + 14 + 9) + (9/1000)*4 + (10/1000)*1 + ((99-9)/1000)*2 + ((100-10)/1000)*0 + ((1000-5-9-10-90-90)/1000)*(-1)\n",
    "res"
   ]
  },
  {
   "cell_type": "code",
   "execution_count": null,
   "id": "f28ffd07",
   "metadata": {},
   "outputs": [],
   "source": []
  }
 ],
 "metadata": {
  "kernelspec": {
   "display_name": "Python 3",
   "language": "python",
   "name": "python3"
  },
  "language_info": {
   "codemirror_mode": {
    "name": "ipython",
    "version": 3
   },
   "file_extension": ".py",
   "mimetype": "text/x-python",
   "name": "python",
   "nbconvert_exporter": "python",
   "pygments_lexer": "ipython3",
   "version": "3.8.8"
  }
 },
 "nbformat": 4,
 "nbformat_minor": 5
}
